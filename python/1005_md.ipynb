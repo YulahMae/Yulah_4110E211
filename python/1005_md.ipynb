{
  "nbformat": 4,
  "nbformat_minor": 0,
  "metadata": {
    "colab": {
      "provenance": []
    },
    "kernelspec": {
      "name": "python3",
      "display_name": "Python 3"
    },
    "language_info": {
      "name": "python"
    }
  },
  "cells": [
    {
      "cell_type": "markdown",
      "source": [
        "# **1005 Learning Python**"
      ],
      "metadata": {
        "id": "Aizzelyv_-my"
      }
    },
    {
      "cell_type": "markdown",
      "source": [
        "Python Tutorial - W3Schools\n",
        "\n",
        "Python Tutorial - Tutorialspoint\n",
        "\n",
        "HappyPythonDay"
      ],
      "metadata": {
        "id": "hBe2ze6WADoN"
      }
    },
    {
      "cell_type": "markdown",
      "source": [
        "## **Python Strings**"
      ],
      "metadata": {
        "id": "vAsion53APbW"
      }
    },
    {
      "cell_type": "markdown",
      "source": [
        "strings in Python are arrays of bytes representing unicode characters."
      ],
      "metadata": {
        "id": "B-2l8qb7ASuG"
      }
    },
    {
      "cell_type": "code",
      "execution_count": null,
      "metadata": {
        "id": "8_wLzoZd_7iv"
      },
      "outputs": [],
      "source": [
        "a = \"Hello, Yulah\"\n",
        "print(a[7])\n",
        "\n",
        "# strings == > array\n",
        "# index begins with 0"
      ]
    },
    {
      "cell_type": "markdown",
      "source": [
        "Strings are Arrays ==> acces the elemet of arrays\n",
        "\n",
        "Python does not have a character data type, a single character is simply a string with a length of 1"
      ],
      "metadata": {
        "id": "X-6BYoZGAaZA"
      }
    },
    {
      "cell_type": "code",
      "source": [
        "a = \"Hello, Yulah!\"\n",
        "print(a[4])\n",
        "\n",
        "# strings == > array\n",
        "# index begins with 0"
      ],
      "metadata": {
        "id": "eGBD09RlAft3"
      },
      "execution_count": null,
      "outputs": []
    },
    {
      "cell_type": "markdown",
      "source": [
        "Looping Through a String"
      ],
      "metadata": {
        "id": "1Y62YiJ-Alm2"
      }
    },
    {
      "cell_type": "code",
      "source": [
        "for x in \"Yulah\":\n",
        "  print(x)"
      ],
      "metadata": {
        "id": "-x99A6rhAmp3"
      },
      "execution_count": null,
      "outputs": []
    },
    {
      "cell_type": "markdown",
      "source": [
        "String Length:To get the length of a string, use the len()function.\n"
      ],
      "metadata": {
        "id": "JyGNlfqQApCw"
      }
    },
    {
      "cell_type": "code",
      "source": [
        "a = \"Hello, Yulah!\"\n",
        "print(len(a))\n",
        "# wrong: print(length(a))"
      ],
      "metadata": {
        "id": "ROqbWR4MAuAV"
      },
      "execution_count": null,
      "outputs": []
    },
    {
      "cell_type": "markdown",
      "source": [
        "QUIZ:tell me how many char appear in \"qwert yuiop wasd\"\n",
        "\n"
      ],
      "metadata": {
        "id": "HhjzIAKBAsto"
      }
    },
    {
      "cell_type": "code",
      "source": [
        "a = \"qwert yuiop wasd\"\n",
        "print(len(a))\n",
        "# wrong: print(length(a))\n",
        "# 16 = 14 letter 2 space"
      ],
      "metadata": {
        "id": "idC1NR52Az23"
      },
      "execution_count": null,
      "outputs": []
    },
    {
      "cell_type": "markdown",
      "source": [
        "Check String:To check if a certain phrase or character is present in a string, we can use the keyword in.\n",
        "\n",
        "keyword in vs if\n",
        "\n",
        "True or False"
      ],
      "metadata": {
        "id": "9XKMhOhhA5d2"
      }
    },
    {
      "cell_type": "code",
      "source": [
        "txt = \"The best things in life are free!QWERTY \"\n",
        "# print(\"free\" in txt) == > True\n",
        "# print(\"QWERTY\" in txt) == > True\n",
        "print(\"QWERTY\" in txt)  # False\n",
        "``\n",
        "\n",
        "``` python\n",
        "txt = \"The best things in life are free!qwert yuiop wasd\"\n",
        "if \"QWERTY\" in txt:\n",
        "  print(\"Yes, 'QWERTY' is present.\")"
      ],
      "metadata": {
        "id": "2dr0gRDxA-gX"
      },
      "execution_count": null,
      "outputs": []
    },
    {
      "cell_type": "code",
      "source": [
        "txt = \"The best things in life are free!qwert yuiop wasd\"\n",
        "if \"QWERTY\" in txt:\n",
        "  print(\"Yes, 'QWERTY' is present.\")"
      ],
      "metadata": {
        "id": "zwWl5huUA_bu"
      },
      "execution_count": null,
      "outputs": []
    },
    {
      "cell_type": "markdown",
      "source": [
        "Negative Indexing"
      ],
      "metadata": {
        "id": "ffMZgeY7BCdA"
      }
    },
    {
      "cell_type": "code",
      "source": [
        "b = \"Hello, Yulah!\"\n",
        "print(b[-5:-2])\n",
        "# -2 not included"
      ],
      "metadata": {
        "id": "D1PD6pQ9BEX-"
      },
      "execution_count": null,
      "outputs": []
    },
    {
      "cell_type": "markdown",
      "source": [
        "Python - Modify Strings\n",
        "\n",
        "The upper() method returns the string in upper case:\n",
        "\n",
        "The lower() method returns the string in lower case"
      ],
      "metadata": {
        "id": "B-h78DgkBHG3"
      }
    },
    {
      "cell_type": "code",
      "source": [
        "b = \"Hello, Yulah!\"\n",
        "print(b.upper())"
      ],
      "metadata": {
        "id": "4k6la1YKBKDO"
      },
      "execution_count": null,
      "outputs": []
    },
    {
      "cell_type": "markdown",
      "source": [
        "Remove Whitespace with strip() method\n",
        "\n",
        "The strip() method removes any whitespace from the beginning or the end"
      ],
      "metadata": {
        "id": "f5_JyffDBNjW"
      }
    },
    {
      "cell_type": "code",
      "source": [
        "b = \" Hello, Yulah! \"\n",
        "print(b.strip())"
      ],
      "metadata": {
        "id": "PuSYM27wBR2-"
      },
      "execution_count": null,
      "outputs": []
    },
    {
      "cell_type": "markdown",
      "source": [
        "The replace()method replaces a string with another string\n",
        "\n",
        "seperator"
      ],
      "metadata": {
        "id": "tX9bS0QIBVbG"
      }
    },
    {
      "cell_type": "code",
      "source": [
        "b = \" Hello, Yulah! \"\n",
        "print(b.replace(\"o\", \"w\"))"
      ],
      "metadata": {
        "id": "mjrmOfxbBXh9"
      },
      "execution_count": null,
      "outputs": []
    },
    {
      "cell_type": "code",
      "source": [
        "b = \" Hello, Yulah! \"\n",
        "print(b.split(\",\"))"
      ],
      "metadata": {
        "id": "zs3GV8l3BZSo"
      },
      "execution_count": null,
      "outputs": []
    },
    {
      "cell_type": "code",
      "source": [
        "b = \" Hello, Yulah! \"\n",
        "print(b.split(\"D\"))"
      ],
      "metadata": {
        "id": "60CYttVlBa7F"
      },
      "execution_count": null,
      "outputs": []
    },
    {
      "cell_type": "markdown",
      "source": [
        "String Concatenation:To concatenate, or combine, two strings you can use the + operator.\n"
      ],
      "metadata": {
        "id": "R6UjsuJ_BgMt"
      }
    },
    {
      "cell_type": "code",
      "source": [
        "a = \"Hello\"\n",
        "b = \" , \"\n",
        "c = \"Yulah\"\n",
        "d = a + b + c\n",
        "print(d)"
      ],
      "metadata": {
        "id": "rrWnMUO9Bjiu"
      },
      "execution_count": null,
      "outputs": []
    },
    {
      "cell_type": "markdown",
      "source": [
        "Python - Format - Strings\n"
      ],
      "metadata": {
        "id": "Z3_jqxAVBm8G"
      }
    },
    {
      "cell_type": "code",
      "source": [
        "age = 19\n",
        "txt = \"My name is Yulah, and I am {}\"\n",
        "print(txt.format(age))"
      ],
      "metadata": {
        "id": "LEK_GVwDBo2f"
      },
      "execution_count": null,
      "outputs": []
    },
    {
      "cell_type": "code",
      "source": [
        "quantity = 6\n",
        "itemno = 867\n",
        "price = 29.95\n",
        "myorder = \"I want {2} pieces of item {0} for {1} dollars.\"\n",
        "print(myorder.format(quantity, itemno, price))"
      ],
      "metadata": {
        "id": "MXFpgXwPBvVQ"
      },
      "execution_count": null,
      "outputs": []
    },
    {
      "cell_type": "markdown",
      "source": [
        "String Methods\n"
      ],
      "metadata": {
        "id": "RycftbfdBxHG"
      }
    },
    {
      "cell_type": "code",
      "source": [
        "txt = \"hello, and welcome to KUNSHAN!.\"\n",
        "\n",
        "x = txt.capitalize()\n",
        "\n",
        "print (x)"
      ],
      "metadata": {
        "id": "_d467cZVBzFm"
      },
      "execution_count": null,
      "outputs": []
    },
    {
      "cell_type": "code",
      "source": [
        "txt = \"Hello, And Welcome To KUNSHAN!\"\n",
        "\n",
        "x = txt.casefold()\n",
        "\n",
        "print(x)"
      ],
      "metadata": {
        "id": "BIuwL8lpB00B"
      },
      "execution_count": null,
      "outputs": []
    },
    {
      "cell_type": "markdown",
      "source": [],
      "metadata": {
        "id": "5Gh4I9_WBu-u"
      }
    }
  ]
}