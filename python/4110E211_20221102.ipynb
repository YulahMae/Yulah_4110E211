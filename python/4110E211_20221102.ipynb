{
  "nbformat": 4,
  "nbformat_minor": 0,
  "metadata": {
    "colab": {
      "provenance": []
    },
    "kernelspec": {
      "name": "python3",
      "display_name": "Python 3"
    },
    "language_info": {
      "name": "python"
    }
  },
  "cells": [
    {
      "cell_type": "markdown",
      "source": [
        "# **1102 Test**"
      ],
      "metadata": {
        "id": "XjyVVTkghk5I"
      }
    },
    {
      "cell_type": "markdown",
      "source": [
        "**4110E211 - 尤拉梅**"
      ],
      "metadata": {
        "id": "5udEBZnFhmtZ"
      }
    },
    {
      "cell_type": "markdown",
      "source": [
        "**Multiple Choice**"
      ],
      "metadata": {
        "id": "v2zQ_Nl_h_Qv"
      }
    },
    {
      "cell_type": "markdown",
      "source": [
        "# **1.**"
      ],
      "metadata": {
        "id": "n7KnnUrOiDFw"
      }
    },
    {
      "cell_type": "markdown",
      "source": [
        "**Which following is the correct way to create a dictionary in Python?**"
      ],
      "metadata": {
        "id": "CS120OWtiFof"
      }
    },
    {
      "cell_type": "markdown",
      "source": [
        "(A) students = { 'name' => 'alice' ; 'score' =>60 }\n",
        "\n",
        "(B) students = { 'name' = 'alice' ; 'score' =60 }\n",
        "\n",
        "(C) students = { 'name' : 'alice' ; 'score' : 60 }\n",
        "\n",
        "(D) students = { 'name' => 'alice' , 'score' =>60 }\n",
        "\n",
        "(E) students = { 'name' : 'alice' , 'score' : 60 }"
      ],
      "metadata": {
        "id": "hL9FzMfciI4n"
      }
    },
    {
      "cell_type": "markdown",
      "source": [
        "# **Answer:**"
      ],
      "metadata": {
        "id": "4KjY0D3JiQyH"
      }
    },
    {
      "cell_type": "markdown",
      "source": [
        "# **E**"
      ],
      "metadata": {
        "id": "y-SvQF4GiT-4"
      }
    },
    {
      "cell_type": "code",
      "source": [
        "student = {\n",
        "  \"name\": \"alice\",\n",
        "  \"score\": 60\n",
        "}\n",
        "print(student)"
      ],
      "metadata": {
        "colab": {
          "base_uri": "https://localhost:8080/"
        },
        "id": "vbZtIJxqiZzX",
        "outputId": "a3db14ac-5091-435d-fa63-529da76dcbca"
      },
      "execution_count": 1,
      "outputs": [
        {
          "output_type": "stream",
          "name": "stdout",
          "text": [
            "{'name': 'alice', 'score': 60}\n"
          ]
        }
      ]
    },
    {
      "cell_type": "markdown",
      "source": [
        "# **2.**"
      ],
      "metadata": {
        "id": "FNEk13uKij__"
      }
    },
    {
      "cell_type": "markdown",
      "source": [
        "What does the following Python program fragment do?\n",
        "\n",
        "s=0\n",
        "\n",
        "for i in range (3 , 10) :\n",
        "\n",
        "    s+=i\n",
        "\n",
        "print (s)"
      ],
      "metadata": {
        "id": "DZWxHWA8iljH"
      }
    },
    {
      "cell_type": "markdown",
      "source": [
        "(A) Calculate the sum of 1+2+…+10\n",
        "\n",
        "(B) Calculate the sum of 1+4+7+10\n",
        "\n",
        "(C) Calculate the sum of 3+4+5+6+…+9\n",
        "\n",
        "(D) Calculate the sum of 3+4+5+6+…+10\n",
        "\n",
        "(E) Calculate the sum of 0+2+4+6+…+10"
      ],
      "metadata": {
        "id": "be9ik5msioMv"
      }
    },
    {
      "cell_type": "markdown",
      "source": [
        "\n",
        "# **Answer:**"
      ],
      "metadata": {
        "id": "NgCc2T2fi6KU"
      }
    },
    {
      "cell_type": "markdown",
      "source": [
        " **B**"
      ],
      "metadata": {
        "id": "BzLNCOE6i7b_"
      }
    },
    {
      "cell_type": "code",
      "source": [
        "s=0\n",
        "for i in range (3 , 10) :\n",
        "  s+=i\n",
        "\n",
        "print (s)"
      ],
      "metadata": {
        "colab": {
          "base_uri": "https://localhost:8080/"
        },
        "id": "G7Cyn3Owi_WU",
        "outputId": "2364661d-058d-4ccf-9a90-959d97ab42a6"
      },
      "execution_count": 2,
      "outputs": [
        {
          "output_type": "stream",
          "name": "stdout",
          "text": [
            "42\n"
          ]
        }
      ]
    },
    {
      "cell_type": "markdown",
      "source": [
        "# **3.**"
      ],
      "metadata": {
        "id": "jYuxwq_HjCte"
      }
    },
    {
      "cell_type": "markdown",
      "source": [
        "  list = [ ' a ' ,  ' b ' ,  ' c ' ,  ' d ' ,  ' e ' ]\n",
        "\n",
        "  print (list [ 1 : ])\n",
        "\n",
        "(A) [ ]\n",
        "\n",
        "(B) [ 'b' ]\n",
        "\n",
        "(C) [ 'a' , 'b' ]\n",
        "\n",
        "(D) [ 'b' , 'c' , 'd' , 'e' ]"
      ],
      "metadata": {
        "id": "_QViV7z0jEx-"
      }
    },
    {
      "cell_type": "markdown",
      "source": [],
      "metadata": {
        "id": "FfuF6vUgjKhu"
      }
    },
    {
      "cell_type": "markdown",
      "source": [
        "# **Answer:**"
      ],
      "metadata": {
        "id": "THQ88j-5jGzu"
      }
    },
    {
      "cell_type": "markdown",
      "source": [
        "**D**"
      ],
      "metadata": {
        "id": "MZ83vIHYjTmY"
      }
    },
    {
      "cell_type": "code",
      "source": [
        "list = [ ' a ' ,  ' b ' ,  ' c ' ,  ' d ' ,  ' e ' ]\n",
        "\n",
        "print (list [ 1 : ])"
      ],
      "metadata": {
        "colab": {
          "base_uri": "https://localhost:8080/"
        },
        "id": "_Wf8-o00jVg0",
        "outputId": "38af5baf-5b01-4b27-df76-dea1d2faf177"
      },
      "execution_count": 3,
      "outputs": [
        {
          "output_type": "stream",
          "name": "stdout",
          "text": [
            "[' b ', ' c ', ' d ', ' e ']\n"
          ]
        }
      ]
    },
    {
      "cell_type": "markdown",
      "source": [
        "# **4.**"
      ],
      "metadata": {
        "id": "YuD2s8FajXoZ"
      }
    },
    {
      "cell_type": "markdown",
      "source": [
        "**What is the output of this code in Python?**"
      ],
      "metadata": {
        "id": "7lmbdtG-jYkQ"
      }
    },
    {
      "cell_type": "markdown",
      "source": [
        " L1 = [ ]\n",
        "\n",
        "    L1.append ( [1, [2, 3], 4] )\n",
        "\n",
        "    L1.extend ( [7, 8, 9] )\n",
        "\n",
        "    print(L1[0][1][1] + L1[2] ) \n",
        "    \n",
        "(A) 3\n",
        "\n",
        "(B) 8\n",
        "\n",
        "(C) 11\n",
        "\n",
        "(D) 38\n",
        "\n",
        "(E) None of these"
      ],
      "metadata": {
        "id": "nI0hU9L6jbm_"
      }
    },
    {
      "cell_type": "markdown",
      "source": [
        "# **Answer:**"
      ],
      "metadata": {
        "id": "wW3f49Q2ju83"
      }
    },
    {
      "cell_type": "markdown",
      "source": [
        "**C**"
      ],
      "metadata": {
        "id": "JOepyPAWjyM3"
      }
    },
    {
      "cell_type": "code",
      "source": [
        "L1 = [ ]\n",
        "L1.append ( [1, [2, 3], 4] )\n",
        "L1.extend ( [7, 8, 9] )\n",
        "print(L1[0][1][1] + L1[2] )"
      ],
      "metadata": {
        "colab": {
          "base_uri": "https://localhost:8080/"
        },
        "id": "mjLjChYTjzN-",
        "outputId": "b812410c-32a7-4a29-f1d6-985394897984"
      },
      "execution_count": 4,
      "outputs": [
        {
          "output_type": "stream",
          "name": "stdout",
          "text": [
            "11\n"
          ]
        }
      ]
    },
    {
      "cell_type": "markdown",
      "source": [
        "# **5.**"
      ],
      "metadata": {
        "id": "GN7DaSeRj2ap"
      }
    },
    {
      "cell_type": "markdown",
      "source": [
        "What is the output of this code in python?"
      ],
      "metadata": {
        "id": "PoGofUCHj3s_"
      }
    },
    {
      "cell_type": "markdown",
      "source": [
        "  r = lambda q: q * 2\n",
        "\n",
        "    s = lambda q: q * 3\n",
        "\n",
        "    x = 2\n",
        "\n",
        "    x = r (x)\n",
        "\n",
        "    x = s (x)\n",
        "\n",
        "    x = r (x)\n",
        "\n",
        "    print (x)\n",
        "\n",
        "(A) 2\n",
        "\n",
        "(B) 4\n",
        "\n",
        "(C) 6\n",
        "\n",
        "(D) 12\n",
        "\n",
        "(E) 24"
      ],
      "metadata": {
        "id": "t9ugX3rej5AB"
      }
    },
    {
      "cell_type": "markdown",
      "source": [
        "\n",
        "# **Answer:**"
      ],
      "metadata": {
        "id": "WaTTBDLoj74X"
      }
    },
    {
      "cell_type": "markdown",
      "source": [
        "**E**"
      ],
      "metadata": {
        "id": "W7XY0WBZj-J4"
      }
    },
    {
      "cell_type": "code",
      "source": [
        "r = lambda q: q * 2\n",
        "s = lambda q: q * 3\n",
        "x = 2\n",
        "x = r (x)\n",
        "x = s (x)\n",
        "x = r (x)\n",
        "print (x)"
      ],
      "metadata": {
        "colab": {
          "base_uri": "https://localhost:8080/"
        },
        "id": "61uaT9UqkArI",
        "outputId": "5a7ead9e-41c2-4347-c796-cf8b50829170"
      },
      "execution_count": 5,
      "outputs": [
        {
          "output_type": "stream",
          "name": "stdout",
          "text": [
            "24\n"
          ]
        }
      ]
    },
    {
      "cell_type": "markdown",
      "source": [
        "# **6.**"
      ],
      "metadata": {
        "id": "1VzeNICYkDfQ"
      }
    },
    {
      "cell_type": "markdown",
      "source": [
        "Which of the following conditions correctly describes the output of this code in Python?"
      ],
      "metadata": {
        "id": "8BU1U0aAkFiQ"
      }
    },
    {
      "cell_type": "markdown",
      "source": [
        " first = [1 , 2 , 3 , 4 , 5]\n",
        "\n",
        "     second = first\n",
        "\n",
        "     second.append (6)\n",
        "\n",
        "     print (first)\n",
        "\n",
        "     print (second)\n",
        "\n",
        "(A) first=[1, 2, 3, 4, 5], second=[1, 2, 3, 4, 5, 6]\n",
        "\n",
        "(B) first=[1, 2, 3, 4, 5, 6], second=[1, 2, 3, 4, 5]\n",
        "\n",
        "(C) first=[1, 2, 3, 4, 5], second=[1, 2, 3, 4, 5]\n",
        "\n",
        "(D) first=[1, 2, 3, 4, 5, 6], second=[1, 2, 3, 4, 5, 6]\n",
        "\n",
        "(E) None of these"
      ],
      "metadata": {
        "id": "XGQbMco-kGGR"
      }
    },
    {
      "cell_type": "markdown",
      "source": [
        "# **Answer:**"
      ],
      "metadata": {
        "id": "w9QXhzTpkJ1_"
      }
    },
    {
      "cell_type": "markdown",
      "source": [
        "**D**"
      ],
      "metadata": {
        "id": "B3CFiFJEkOnx"
      }
    },
    {
      "cell_type": "code",
      "source": [
        "first = [1 , 2 , 3 , 4 , 5]\n",
        "second = first\n",
        "second.append (6)\n",
        "print (first)\n",
        "print (second)"
      ],
      "metadata": {
        "colab": {
          "base_uri": "https://localhost:8080/"
        },
        "id": "I-8SBA5KkQiw",
        "outputId": "6af84733-9086-42cd-dce5-234fe6cb94d9"
      },
      "execution_count": 6,
      "outputs": [
        {
          "output_type": "stream",
          "name": "stdout",
          "text": [
            "[1, 2, 3, 4, 5, 6]\n",
            "[1, 2, 3, 4, 5, 6]\n"
          ]
        }
      ]
    },
    {
      "cell_type": "markdown",
      "source": [
        "\n",
        "# **7.**"
      ],
      "metadata": {
        "id": "LA7_tBP2kT3H"
      }
    },
    {
      "cell_type": "markdown",
      "source": [
        "If the function\n",
        "\n",
        "int volume (int x = 1, int y = 1, int z = 1);\n",
        "\n",
        "is called by the expression volume (7,8),\n",
        "\n",
        "how many default arguments are used?\n",
        "\n",
        "(A) None\n",
        "\n",
        "(B) One\n",
        "\n",
        "(C) Two\n",
        "\n",
        "(D) Three\n",
        "\n",
        "(E) It depends on the runtime environment."
      ],
      "metadata": {
        "id": "Oq3B_QfakXKO"
      }
    },
    {
      "cell_type": "markdown",
      "source": [
        "# **Answer:**"
      ],
      "metadata": {
        "id": "5e_zF8y8kYbO"
      }
    },
    {
      "cell_type": "markdown",
      "source": [
        "**D**"
      ],
      "metadata": {
        "id": "mNka1-hEkafe"
      }
    },
    {
      "cell_type": "markdown",
      "source": [
        "# **Reading comprehension:What is the output of this code in Python?**"
      ],
      "metadata": {
        "id": "210HE_7Xkc7u"
      }
    },
    {
      "cell_type": "markdown",
      "source": [
        "# **B1.What is the output of this code in Python? explain it.**"
      ],
      "metadata": {
        "id": "yzMlrvkRkf7m"
      }
    },
    {
      "cell_type": "markdown",
      "source": [
        "# **Answer:**"
      ],
      "metadata": {
        "id": "eq6pAmFIlM36"
      }
    },
    {
      "cell_type": "code",
      "source": [
        "# primes.py\n",
        "primes = []  # this will contain the primes at the end\n",
        "upto = 100  # the limit, inclusive\n",
        "for n in range(2, upto + 1): \n",
        "    is_prime = True  # flag, new at each iteration of outer for\n",
        "    for divisor in range(2, n):\n",
        "        if n % divisor == 0:\n",
        "            is_prime = False\n",
        "            break\n",
        "    if is_prime:  # check on flag\n",
        "        primes.append(n) \n",
        "print(primes)"
      ],
      "metadata": {
        "id": "mjxp4-l3mOsB",
        "outputId": "15318c96-4fd4-4c6f-98a5-24c586d87ae7",
        "colab": {
          "base_uri": "https://localhost:8080/"
        }
      },
      "execution_count": 7,
      "outputs": [
        {
          "output_type": "stream",
          "name": "stdout",
          "text": [
            "[2, 3, 5, 7, 11, 13, 17, 19, 23, 29, 31, 37, 41, 43, 47, 53, 59, 61, 67, 71, 73, 79, 83, 89, 97]\n"
          ]
        }
      ]
    },
    {
      "cell_type": "markdown",
      "source": [
        "# **Explanation:**"
      ],
      "metadata": {
        "id": "SJU8kBxzmSS9"
      }
    },
    {
      "cell_type": "code",
      "source": [
        "# primes.py\n",
        "    primes = []  # primes will contaian in the end\n",
        "    upto = 100  # the inclusive limit \n",
        "    for n in range(2, upto + 1): # repeat an action a specific number of times  upto + 1 \n",
        "        is_prime = True  # if factor is found, set flag to True\n",
        "        for divisor in range(2, n): # repeat an action a specific number of times\n",
        "            if n % divisor == 0: #  zero values are false\n",
        "                is_prime = False  # if factor is found, set flag to False\n",
        "                break # break out of loop\n",
        "        if is_prime:  # check on flag\n",
        "            primes.append(n) # is_prime is true then it will append in the list\n",
        "    print(primes) # print prime numbers"
      ],
      "metadata": {
        "id": "vknGxHbymU9Q"
      },
      "execution_count": null,
      "outputs": []
    },
    {
      "cell_type": "markdown",
      "source": [
        "# **B2.What is the output of this code in Python? explain it.**"
      ],
      "metadata": {
        "id": "eAv2c3eylhBz"
      }
    },
    {
      "cell_type": "markdown",
      "source": [
        "# **Answer:**"
      ],
      "metadata": {
        "id": "xYxgW4PYmbTm"
      }
    },
    {
      "cell_type": "code",
      "source": [
        "# primes.else.py\n",
        "primes = []\n",
        "upto = 100\n",
        "for n in range(2, upto + 1):\n",
        "    for divisor in range(2, n):\n",
        "        if n % divisor == 0:\n",
        "            break\n",
        "    else:\n",
        "        primes.append(n)\n",
        "print(primes)"
      ],
      "metadata": {
        "id": "BfrNpER3metg",
        "outputId": "4c45ec17-2950-4351-acea-2ab8c11651a2",
        "colab": {
          "base_uri": "https://localhost:8080/"
        }
      },
      "execution_count": 8,
      "outputs": [
        {
          "output_type": "stream",
          "name": "stdout",
          "text": [
            "[2, 3, 5, 7, 11, 13, 17, 19, 23, 29, 31, 37, 41, 43, 47, 53, 59, 61, 67, 71, 73, 79, 83, 89, 97]\n"
          ]
        }
      ]
    },
    {
      "cell_type": "markdown",
      "source": [
        "# **Explanation:**"
      ],
      "metadata": {
        "id": "RH3FGeV6mzc3"
      }
    },
    {
      "cell_type": "code",
      "source": [
        "# primes.else.py\n",
        "primes = [] # primes will contaian in the end\n",
        "upto = 100 # the inclusive limit\n",
        "for n in range(2, upto + 1): # repeat an action  a specific number of times  upto + 1 \n",
        "    for divisor in range(2, n): # repeat an action a specific number of times\n",
        "        if n % divisor == 0: #  zero values are false\n",
        "            break# break out of loop\n",
        "    else: # flag is true \n",
        "        primes.append(n)  # is_prime is true then it will append in the list\n",
        "print(primes) # print prime numbers"
      ],
      "metadata": {
        "id": "fd31zaQVm1iF"
      },
      "execution_count": null,
      "outputs": []
    },
    {
      "cell_type": "markdown",
      "source": [
        "# **B3.What is the output of this code in Python?explain it.**\n"
      ],
      "metadata": {
        "id": "yUbYPxd1m53-"
      }
    },
    {
      "cell_type": "markdown",
      "source": [
        "# This is formatted as \n",
        "\n",
        "cubes = [x**3 for x in range(1,6)]\n",
        "print(cubes"
      ],
      "metadata": {
        "id": "ovY2xyx6m7kv"
      }
    },
    {
      "cell_type": "markdown",
      "source": [
        "# **Answer:**"
      ],
      "metadata": {
        "id": "ArXfDB2em_81"
      }
    },
    {
      "cell_type": "code",
      "source": [
        "cubes = [x**3 for x in range(1,6)]\n",
        "print(cubes)"
      ],
      "metadata": {
        "id": "35DAzvoanDom",
        "outputId": "08d5334e-13e0-42c7-94b8-89eed4d3c59e",
        "colab": {
          "base_uri": "https://localhost:8080/"
        }
      },
      "execution_count": 9,
      "outputs": [
        {
          "output_type": "stream",
          "name": "stdout",
          "text": [
            "[1, 8, 27, 64, 125]\n"
          ]
        }
      ]
    },
    {
      "cell_type": "markdown",
      "source": [
        "# **Explanation:**"
      ],
      "metadata": {
        "id": "wByQ7QDSnFxO"
      }
    },
    {
      "cell_type": "markdown",
      "source": [
        "range(1,6) == > 1,2,3,4,5\n",
        "\n",
        "[x**3 for x in range(1,6)] ==> [13 , 23 , ...., 5**3]\n",
        "\n",
        "2**3 = 8"
      ],
      "metadata": {
        "id": "jqJnEkaLnJbm"
      }
    },
    {
      "cell_type": "markdown",
      "source": [
        "# **Programming Python**"
      ],
      "metadata": {
        "id": "PRr6OSd0nPSu"
      }
    },
    {
      "cell_type": "markdown",
      "source": [
        "The Fibonacci numbers may be defined by the recurrence relation\n",
        "\n",
        "F_{0}=0, F_{1}=1\n",
        "\n",
        "and\n",
        "\n",
        "F_{n} = F_{n-1} + F_{n-2} for n > 1.\n",
        "\n",
        "0,1,1,2,3,5,8,......\n",
        "\n",
        "Under some older definitions, the value F_{0}=0 is omitted,\n",
        "\n",
        "so that the sequence starts with F_{1}=F_{2}=1 and\n",
        "\n",
        "the recurrence F_{n}=F_{n-1}+F_{n-2} is valid for n > 2\n",
        "\n",
        "(1)Write a Python function/Program to Find Fibonacci Numbers using Recursion\n",
        "\n",
        "(2)use iterative Approach To Find the nth Term Of Fibonacci Sequence(You need to write a function using loop)"
      ],
      "metadata": {
        "id": "6ZsjWLrYnTYI"
      }
    },
    {
      "cell_type": "code",
      "source": [
        "# Python program to display the Fibonacci sequence\n",
        "\n",
        "def recur_fibo(n):\n",
        "   if n <= 1:\n",
        "       return n\n",
        "   else:\n",
        "       return(recur_fibo(n-1) + recur_fibo(n-2))\n",
        "\n",
        "nterms = 18\n",
        "\n",
        "# check if the number of terms is valid\n",
        "if nterms <= 0:\n",
        "   print(\"Plese enter a positive integer\")\n",
        "else:\n",
        "   print(\"Fibonacci sequence:\")\n",
        "   for i in range(nterms):\n",
        "       print(recur_fibo(i))"
      ],
      "metadata": {
        "id": "t5ZWumdMnXFl",
        "outputId": "7079904b-776e-4610-e192-feb245373caa",
        "colab": {
          "base_uri": "https://localhost:8080/"
        }
      },
      "execution_count": 10,
      "outputs": [
        {
          "output_type": "stream",
          "name": "stdout",
          "text": [
            "Fibonacci sequence:\n",
            "0\n",
            "1\n",
            "1\n",
            "2\n",
            "3\n",
            "5\n",
            "8\n",
            "13\n",
            "21\n",
            "34\n",
            "55\n",
            "89\n",
            "144\n",
            "233\n",
            "377\n",
            "610\n",
            "987\n",
            "1597\n"
          ]
        }
      ]
    },
    {
      "cell_type": "markdown",
      "source": [
        "# **1.**"
      ],
      "metadata": {
        "id": "58za_7q8nbT2"
      }
    },
    {
      "cell_type": "code",
      "source": [
        "def recur_fibo(n):  \n",
        "   if n <= 1:  \n",
        "       return n  \n",
        "   else:  \n",
        "       return(recur_fibo(n-1) + recur_fibo(n-2))  \n",
        " \n",
        "nterms = 24\n",
        " \n",
        "if nterms <= 0: \n",
        "   print(\"Plese enter a positive integer\")  \n",
        "else:  \n",
        "   print(\"Fibonacci sequence:\")  \n",
        "   for i in range(nterms):  \n",
        "       print(recur_fibo(i))"
      ],
      "metadata": {
        "id": "0RzosvxIndId",
        "outputId": "4e12ec6d-0d81-4dcd-c54b-6e7cb96393a2",
        "colab": {
          "base_uri": "https://localhost:8080/"
        }
      },
      "execution_count": 11,
      "outputs": [
        {
          "output_type": "stream",
          "name": "stdout",
          "text": [
            "Fibonacci sequence:\n",
            "0\n",
            "1\n",
            "1\n",
            "2\n",
            "3\n",
            "5\n",
            "8\n",
            "13\n",
            "21\n",
            "34\n",
            "55\n",
            "89\n",
            "144\n",
            "233\n",
            "377\n",
            "610\n",
            "987\n",
            "1597\n",
            "2584\n",
            "4181\n",
            "6765\n",
            "10946\n",
            "17711\n",
            "28657\n"
          ]
        }
      ]
    },
    {
      "cell_type": "markdown",
      "source": [
        "# **2.**"
      ],
      "metadata": {
        "id": "1gqAmgWMnfTn"
      }
    },
    {
      "cell_type": "code",
      "source": [
        "def fibonacci(n):\n",
        "    a,b = 0,1\n",
        "    for i in range(n):\n",
        "        a,b = b,a+b\n",
        "    return a\n",
        "\n",
        "print(fibonacci(8))"
      ],
      "metadata": {
        "id": "FP4rqsBWngzw",
        "outputId": "3060341c-1828-4ec7-de68-5dc545e85509",
        "colab": {
          "base_uri": "https://localhost:8080/"
        }
      },
      "execution_count": 12,
      "outputs": [
        {
          "output_type": "stream",
          "name": "stdout",
          "text": [
            "21\n"
          ]
        }
      ]
    }
  ]
}