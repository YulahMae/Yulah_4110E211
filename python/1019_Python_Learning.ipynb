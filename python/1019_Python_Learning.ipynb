{
  "nbformat": 4,
  "nbformat_minor": 0,
  "metadata": {
    "colab": {
      "provenance": []
    },
    "kernelspec": {
      "name": "python3",
      "display_name": "Python 3"
    },
    "language_info": {
      "name": "python"
    }
  },
  "cells": [
    {
      "cell_type": "markdown",
      "source": [
        "# **1019 Python Learning 4110E211**"
      ],
      "metadata": {
        "id": "XIBf6ICxc2Xb"
      }
    },
    {
      "cell_type": "markdown",
      "source": [
        "# **Python Conditions and If statements**"
      ],
      "metadata": {
        "id": "Ko18LwEHc6KY"
      }
    },
    {
      "cell_type": "markdown",
      "source": [
        "**If statement:**"
      ],
      "metadata": {
        "id": "AvqX-xphc9Rh"
      }
    },
    {
      "cell_type": "code",
      "source": [
        "a = 89\n",
        "b = 169\n",
        "\n",
        "if b > a:\n",
        "  print(\"b is greater than a\")"
      ],
      "metadata": {
        "colab": {
          "base_uri": "https://localhost:8080/"
        },
        "id": "Wsf_ux8Yc-9B",
        "outputId": "62a670ea-8e8a-48b7-fa91-f06527ba05e7"
      },
      "execution_count": 1,
      "outputs": [
        {
          "output_type": "stream",
          "name": "stdout",
          "text": [
            "b is greater than a\n"
          ]
        }
      ]
    },
    {
      "cell_type": "markdown",
      "source": [
        "# **Indentation**"
      ],
      "metadata": {
        "id": "u2OSfcwodLR5"
      }
    },
    {
      "cell_type": "markdown",
      "source": [
        "**If statement, without indentation (will raise an error):**"
      ],
      "metadata": {
        "id": "s7BTDYzXdM6H"
      }
    },
    {
      "cell_type": "code",
      "source": [
        "a = 89\n",
        "b = 169\n",
        "if b > a:\n",
        "print(\"b is greater than a\") # you will get an error"
      ],
      "metadata": {
        "colab": {
          "base_uri": "https://localhost:8080/",
          "height": 131
        },
        "id": "QVVnpYpYdPBQ",
        "outputId": "62d16dc2-fd88-4a00-dfc4-7ea38e4ed9ea"
      },
      "execution_count": 2,
      "outputs": [
        {
          "output_type": "error",
          "ename": "IndentationError",
          "evalue": "ignored",
          "traceback": [
            "\u001b[0;36m  File \u001b[0;32m\"<ipython-input-2-ed2bc87ad356>\"\u001b[0;36m, line \u001b[0;32m4\u001b[0m\n\u001b[0;31m    print(\"b is greater than a\") # you will get an error\u001b[0m\n\u001b[0m        ^\u001b[0m\n\u001b[0;31mIndentationError\u001b[0m\u001b[0;31m:\u001b[0m expected an indented block\n"
          ]
        }
      ]
    },
    {
      "cell_type": "markdown",
      "source": [
        "# **Elif**"
      ],
      "metadata": {
        "id": "OZpp7_fVdTE4"
      }
    },
    {
      "cell_type": "code",
      "source": [
        "a = 69\n",
        "b = 69\n",
        "if b > a:\n",
        "  print(\"b is greater than a\")\n",
        "elif a == b:\n",
        "  print(\"a and b are equal\")"
      ],
      "metadata": {
        "colab": {
          "base_uri": "https://localhost:8080/"
        },
        "id": "5KToUG8zdUkv",
        "outputId": "2ca45128-5e45-4dc5-c3ec-0aac490b450b"
      },
      "execution_count": 3,
      "outputs": [
        {
          "output_type": "stream",
          "name": "stdout",
          "text": [
            "a and b are equal\n"
          ]
        }
      ]
    },
    {
      "cell_type": "markdown",
      "source": [
        "# **Else**"
      ],
      "metadata": {
        "id": "xrJ5Hy38dXoo"
      }
    },
    {
      "cell_type": "code",
      "source": [
        "a = 169\n",
        "b = 89\n",
        "if b > a:\n",
        "  print(\"b is greater than a\")\n",
        "elif a == b:\n",
        "  print(\"a and b are equal\")\n",
        "else:\n",
        "  print(\"a is greater than b\")"
      ],
      "metadata": {
        "colab": {
          "base_uri": "https://localhost:8080/"
        },
        "id": "djJ2LqTAdYtA",
        "outputId": "3115b0ea-84d4-4a96-9660-9c8eb87a1758"
      },
      "execution_count": 4,
      "outputs": [
        {
          "output_type": "stream",
          "name": "stdout",
          "text": [
            "a is greater than b\n"
          ]
        }
      ]
    },
    {
      "cell_type": "code",
      "source": [
        "a = 169\n",
        "b = 89\n",
        "if b > a:\n",
        "  print(\"b is greater than a\")\n",
        "else:\n",
        "  print(\"b is not greater than a\")"
      ],
      "metadata": {
        "colab": {
          "base_uri": "https://localhost:8080/"
        },
        "id": "NOR4px7xdbIp",
        "outputId": "045f117f-e2e5-4f90-8dd9-d61ca53831a1"
      },
      "execution_count": 5,
      "outputs": [
        {
          "output_type": "stream",
          "name": "stdout",
          "text": [
            "b is not greater than a\n"
          ]
        }
      ]
    },
    {
      "cell_type": "markdown",
      "source": [
        "# **Short Hand If**"
      ],
      "metadata": {
        "id": "YhxYl4Dpdd_Y"
      }
    },
    {
      "cell_type": "markdown",
      "source": [
        "**One line if statement:**"
      ],
      "metadata": {
        "id": "0RQVr3TUdh-6"
      }
    },
    {
      "cell_type": "code",
      "source": [
        "a = 169\n",
        "b = 89\n",
        "\n",
        "if a > b: print(\"a is greater than b\")"
      ],
      "metadata": {
        "colab": {
          "base_uri": "https://localhost:8080/"
        },
        "id": "tlzgtldzdkof",
        "outputId": "16739f1e-0b3b-494e-a73b-57e00d772c00"
      },
      "execution_count": 6,
      "outputs": [
        {
          "output_type": "stream",
          "name": "stdout",
          "text": [
            "a is greater than b\n"
          ]
        }
      ]
    },
    {
      "cell_type": "markdown",
      "source": [
        "# **Short Hand If ... Else**"
      ],
      "metadata": {
        "id": "83K9IBSydmWH"
      }
    },
    {
      "cell_type": "markdown",
      "source": [
        "**One line if else statement:**"
      ],
      "metadata": {
        "id": "TKSsg6d3doJw"
      }
    },
    {
      "cell_type": "code",
      "source": [
        "a = 9\n",
        "b = 371\n",
        "\n",
        "print(\"A\") if a > b else print(\"B\")"
      ],
      "metadata": {
        "colab": {
          "base_uri": "https://localhost:8080/"
        },
        "id": "3qi2pNnEdq2v",
        "outputId": "6b58ac18-5d89-461c-90bd-3af0441fd8b0"
      },
      "execution_count": 7,
      "outputs": [
        {
          "output_type": "stream",
          "name": "stdout",
          "text": [
            "B\n"
          ]
        }
      ]
    },
    {
      "cell_type": "markdown",
      "source": [
        "**One line if else statement, with 3 conditions:**"
      ],
      "metadata": {
        "id": "AGEh0PQads2o"
      }
    },
    {
      "cell_type": "code",
      "source": [
        "a = 371\n",
        "b = 371\n",
        "\n",
        "print(\"A\") if a > b else print(\"=\") if a == b else print(\"B\")"
      ],
      "metadata": {
        "colab": {
          "base_uri": "https://localhost:8080/"
        },
        "id": "0VUqfDwzdvMn",
        "outputId": "58d9a643-73c5-43b0-8ed3-71814f6a878d"
      },
      "execution_count": 8,
      "outputs": [
        {
          "output_type": "stream",
          "name": "stdout",
          "text": [
            "=\n"
          ]
        }
      ]
    },
    {
      "cell_type": "markdown",
      "source": [
        "# **And**"
      ],
      "metadata": {
        "id": "iJcdvZENdx6Z"
      }
    },
    {
      "cell_type": "markdown",
      "source": [
        "**Test if a is greater than b, AND if c is greater than a:**"
      ],
      "metadata": {
        "id": "wOI17lPvd0XZ"
      }
    },
    {
      "cell_type": "code",
      "source": [
        "a = 390\n",
        "b = 69\n",
        "c = 750\n",
        "if a > b and c > a:\n",
        "  print(\"Both conditions are True\")"
      ],
      "metadata": {
        "colab": {
          "base_uri": "https://localhost:8080/"
        },
        "id": "Xo2J6o8Gd3aX",
        "outputId": "71c7671c-afc0-44f9-c2d1-2afcf50fed99"
      },
      "execution_count": 9,
      "outputs": [
        {
          "output_type": "stream",
          "name": "stdout",
          "text": [
            "Both conditions are True\n"
          ]
        }
      ]
    },
    {
      "cell_type": "markdown",
      "source": [
        "# **Or**"
      ],
      "metadata": {
        "id": "YmNcB9g0d5jX"
      }
    },
    {
      "cell_type": "markdown",
      "source": [
        "**Test if a is greater than b, OR if a is greater than c:**"
      ],
      "metadata": {
        "id": "Zr-ZOARxd895"
      }
    },
    {
      "cell_type": "code",
      "source": [
        "a = 390\n",
        "b = 69\n",
        "c = 750\n",
        "if a > b or a > c:\n",
        "  print(\"At least one of the conditions is True\")"
      ],
      "metadata": {
        "colab": {
          "base_uri": "https://localhost:8080/"
        },
        "id": "aAwiComCeBYg",
        "outputId": "4e016492-21a0-42ec-bb8b-05fcd2cbc7aa"
      },
      "execution_count": 10,
      "outputs": [
        {
          "output_type": "stream",
          "name": "stdout",
          "text": [
            "At least one of the conditions is True\n"
          ]
        }
      ]
    },
    {
      "cell_type": "markdown",
      "source": [
        "# **Nested If**"
      ],
      "metadata": {
        "id": "8XkFBABmeDqh"
      }
    },
    {
      "cell_type": "code",
      "source": [
        "x = 61\n",
        "\n",
        "if x > 30:\n",
        "  print(\"Above thirty,\")\n",
        "  if x > 50:\n",
        "    print(\"and also above 50!\")\n",
        "  else:\n",
        "    print(\"but not above 50.\")"
      ],
      "metadata": {
        "colab": {
          "base_uri": "https://localhost:8080/"
        },
        "id": "5mjUU5YeeF0n",
        "outputId": "bc5fa8a2-f083-44b7-a6a8-2bf2155f2c5d"
      },
      "execution_count": 11,
      "outputs": [
        {
          "output_type": "stream",
          "name": "stdout",
          "text": [
            "Above thirty,\n",
            "and also above 50!\n"
          ]
        }
      ]
    },
    {
      "cell_type": "markdown",
      "source": [
        "# **The pass Statement**"
      ],
      "metadata": {
        "id": "_-HbEBi3eIOP"
      }
    },
    {
      "cell_type": "code",
      "source": [
        "a = 89\n",
        "b = 169\n",
        "\n",
        "if b > a:\n",
        "  pass\n",
        "\n",
        "# having an empty if statement like this, would raise an error without the pass statement"
      ],
      "metadata": {
        "id": "z0C-B6vYeJmx"
      },
      "execution_count": null,
      "outputs": []
    },
    {
      "cell_type": "markdown",
      "source": [
        "# **Python For Loops**"
      ],
      "metadata": {
        "id": "Zzz4wjZBeMJQ"
      }
    },
    {
      "cell_type": "markdown",
      "source": [
        "**Print each fruit in a fruit list:**"
      ],
      "metadata": {
        "id": "U1mHeRN-eOCX"
      }
    },
    {
      "cell_type": "code",
      "source": [
        "classmates = [\"sunshine\", \"mary cris\", \"yael\"]\n",
        "for x in classmates:\n",
        "  print(x)"
      ],
      "metadata": {
        "colab": {
          "base_uri": "https://localhost:8080/"
        },
        "id": "EPvIIAKreRD1",
        "outputId": "4618af24-691f-4c23-a0fa-cf60fca3d900"
      },
      "execution_count": 12,
      "outputs": [
        {
          "output_type": "stream",
          "name": "stdout",
          "text": [
            "sunshine\n",
            "mary cris\n",
            "yael\n"
          ]
        }
      ]
    },
    {
      "cell_type": "markdown",
      "source": [
        "# **Looping Through a String**"
      ],
      "metadata": {
        "id": "Ieci6wYleZj4"
      }
    },
    {
      "cell_type": "markdown",
      "source": [
        "Loop through the letters in the word \"juricka\":"
      ],
      "metadata": {
        "id": "bwxTDlpNebcg"
      }
    },
    {
      "cell_type": "code",
      "source": [
        "for x in \"juricka\":\n",
        "  print(x)"
      ],
      "metadata": {
        "colab": {
          "base_uri": "https://localhost:8080/"
        },
        "id": "oRbSNanieeTo",
        "outputId": "cae8b3f2-a146-4921-c7c6-d61ab1e0a735"
      },
      "execution_count": 13,
      "outputs": [
        {
          "output_type": "stream",
          "name": "stdout",
          "text": [
            "j\n",
            "u\n",
            "r\n",
            "i\n",
            "c\n",
            "k\n",
            "a\n"
          ]
        }
      ]
    },
    {
      "cell_type": "markdown",
      "source": [
        "# **The break Statement**"
      ],
      "metadata": {
        "id": "0o7fRl0uehdQ"
      }
    },
    {
      "cell_type": "markdown",
      "source": [
        "Exit the loop when x is \"mary cis\":"
      ],
      "metadata": {
        "id": "jMi57vwkej03"
      }
    },
    {
      "cell_type": "code",
      "source": [
        "classmates = [\"sunshine\", \"mary cris\", \"yael\"]\n",
        "for x in classmates:\n",
        "  print(x) \n",
        "  if x == \"mary cris\":\n",
        "    break"
      ],
      "metadata": {
        "colab": {
          "base_uri": "https://localhost:8080/"
        },
        "id": "T3B4CChaenR5",
        "outputId": "650eabaf-c9f9-4ae6-9c1d-fb0a3a85af5a"
      },
      "execution_count": 14,
      "outputs": [
        {
          "output_type": "stream",
          "name": "stdout",
          "text": [
            "sunshine\n",
            "mary cris\n"
          ]
        }
      ]
    },
    {
      "cell_type": "markdown",
      "source": [
        "Exit the loop when x is \"mary cris\", but this time the break comes before the print:"
      ],
      "metadata": {
        "id": "GydIXpcwexEw"
      }
    },
    {
      "cell_type": "code",
      "source": [
        "assmates = [\"sunshine\", \"mary cris\", \"yael\"]\n",
        "for x in classmates:\n",
        "  if x == \"mary cris\":\n",
        "    break\n",
        "  print(x)"
      ],
      "metadata": {
        "colab": {
          "base_uri": "https://localhost:8080/"
        },
        "id": "pEE7fetUe0YQ",
        "outputId": "5997d473-e009-4570-a2a9-fa1a95da41bd"
      },
      "execution_count": 15,
      "outputs": [
        {
          "output_type": "stream",
          "name": "stdout",
          "text": [
            "sunshine\n"
          ]
        }
      ]
    },
    {
      "cell_type": "markdown",
      "source": [
        "# **The continue Statement**"
      ],
      "metadata": {
        "id": "2AItMXNae9og"
      }
    },
    {
      "cell_type": "markdown",
      "source": [
        "Do not print mary cris:"
      ],
      "metadata": {
        "id": "OlVLr8U4e_kh"
      }
    },
    {
      "cell_type": "code",
      "source": [
        "classmates = [\"sunshine\", \"mary cris\", \"yael\"]\n",
        "for x in classmates:\n",
        "  if x == \"mary cris\":\n",
        "    continue\n",
        "  print(x)"
      ],
      "metadata": {
        "colab": {
          "base_uri": "https://localhost:8080/"
        },
        "id": "evq9SDi7fDk2",
        "outputId": "4101b239-a704-4d01-c462-b5d19beee623"
      },
      "execution_count": 16,
      "outputs": [
        {
          "output_type": "stream",
          "name": "stdout",
          "text": [
            "sunshine\n",
            "yael\n"
          ]
        }
      ]
    },
    {
      "cell_type": "markdown",
      "source": [
        "# **The range() Function**"
      ],
      "metadata": {
        "id": "J391VRxpfKU3"
      }
    },
    {
      "cell_type": "markdown",
      "source": [
        "**Using the range() function:**"
      ],
      "metadata": {
        "id": "RocouXuxfL9_"
      }
    },
    {
      "cell_type": "code",
      "source": [
        "for x in range(9):\n",
        "  print(x)"
      ],
      "metadata": {
        "colab": {
          "base_uri": "https://localhost:8080/"
        },
        "id": "our9-Q2_fN7o",
        "outputId": "be40965b-12ed-45ac-a86a-591738526845"
      },
      "execution_count": 17,
      "outputs": [
        {
          "output_type": "stream",
          "name": "stdout",
          "text": [
            "0\n",
            "1\n",
            "2\n",
            "3\n",
            "4\n",
            "5\n",
            "6\n",
            "7\n",
            "8\n"
          ]
        }
      ]
    },
    {
      "cell_type": "markdown",
      "source": [
        "**Using the start parameter**"
      ],
      "metadata": {
        "id": "-7TrytP8fPti"
      }
    },
    {
      "cell_type": "code",
      "source": [
        "for x in range(3, 9):\n",
        "  print(x)"
      ],
      "metadata": {
        "colab": {
          "base_uri": "https://localhost:8080/"
        },
        "id": "cbDT4HzRfRUt",
        "outputId": "3cd39707-28a7-4405-bcf9-b082b1effd07"
      },
      "execution_count": 18,
      "outputs": [
        {
          "output_type": "stream",
          "name": "stdout",
          "text": [
            "3\n",
            "4\n",
            "5\n",
            "6\n",
            "7\n",
            "8\n"
          ]
        }
      ]
    },
    {
      "cell_type": "markdown",
      "source": [
        "**Increment the sequence with 3 (default is 1):**"
      ],
      "metadata": {
        "id": "i_QdkS8YfUd_"
      }
    },
    {
      "cell_type": "code",
      "source": [
        "for x in range(6, 90, 3):\n",
        "  print(x)"
      ],
      "metadata": {
        "colab": {
          "base_uri": "https://localhost:8080/"
        },
        "id": "V6f_9yxQfVQ4",
        "outputId": "4b3582d5-5346-4065-9a52-9fa4aa8149b9"
      },
      "execution_count": 19,
      "outputs": [
        {
          "output_type": "stream",
          "name": "stdout",
          "text": [
            "6\n",
            "9\n",
            "12\n",
            "15\n",
            "18\n",
            "21\n",
            "24\n",
            "27\n",
            "30\n",
            "33\n",
            "36\n",
            "39\n",
            "42\n",
            "45\n",
            "48\n",
            "51\n",
            "54\n",
            "57\n",
            "60\n",
            "63\n",
            "66\n",
            "69\n",
            "72\n",
            "75\n",
            "78\n",
            "81\n",
            "84\n",
            "87\n"
          ]
        }
      ]
    },
    {
      "cell_type": "markdown",
      "source": [
        "# **Else in For Loop**"
      ],
      "metadata": {
        "id": "YsVf3GRyfX9I"
      }
    },
    {
      "cell_type": "markdown",
      "source": [
        "**Print all numbers from 0 to 8, and print a message when the loop has ended:**"
      ],
      "metadata": {
        "id": "79NlVoM_fZ0A"
      }
    },
    {
      "cell_type": "code",
      "source": [
        "for x in range(9):\n",
        "  print(x)\n",
        "else:\n",
        "  print(\"Finally finished!\")"
      ],
      "metadata": {
        "colab": {
          "base_uri": "https://localhost:8080/"
        },
        "id": "bFx8NExWfbyK",
        "outputId": "95506395-f40e-4f84-87d5-103dee6814fd"
      },
      "execution_count": 20,
      "outputs": [
        {
          "output_type": "stream",
          "name": "stdout",
          "text": [
            "0\n",
            "1\n",
            "2\n",
            "3\n",
            "4\n",
            "5\n",
            "6\n",
            "7\n",
            "8\n",
            "Finally finished!\n"
          ]
        }
      ]
    },
    {
      "cell_type": "markdown",
      "source": [
        "**Break the loop when x is 6, and see what happens with the else block:**"
      ],
      "metadata": {
        "id": "zYfVWBsLfdlh"
      }
    },
    {
      "cell_type": "code",
      "source": [
        "for x in range(9):\n",
        "  if x == 6: break\n",
        "  print(x)\n",
        "else:\n",
        "  print(\"Finally finished!\")\n",
        "\n",
        "#If the loop breaks, the else block is not executed."
      ],
      "metadata": {
        "colab": {
          "base_uri": "https://localhost:8080/"
        },
        "id": "BJGJeo_effUf",
        "outputId": "73c7789f-44c3-4801-dbe5-9815b3d0b76a"
      },
      "execution_count": 21,
      "outputs": [
        {
          "output_type": "stream",
          "name": "stdout",
          "text": [
            "0\n",
            "1\n",
            "2\n",
            "3\n",
            "4\n",
            "5\n"
          ]
        }
      ]
    },
    {
      "cell_type": "markdown",
      "source": [
        "# **Nested Loops**"
      ],
      "metadata": {
        "id": "t-oTKmhyfhL4"
      }
    },
    {
      "cell_type": "markdown",
      "source": [
        "**Print each adjective for every classmates:**"
      ],
      "metadata": {
        "id": "LQ9_SZBLfke7"
      }
    },
    {
      "cell_type": "code",
      "source": [
        "adj = [\"smart\", \"small\", \"funny\"]\n",
        "classmates = [\"sunshine\", \"mary cris\", \"yael\"]\n",
        "\n",
        "for x in adj:\n",
        "  for y in classmates:\n",
        "    print(x, y)"
      ],
      "metadata": {
        "colab": {
          "base_uri": "https://localhost:8080/"
        },
        "id": "Qj6qVYMkflmz",
        "outputId": "47db872a-6f92-418b-82a1-cdcb2a80d965"
      },
      "execution_count": 22,
      "outputs": [
        {
          "output_type": "stream",
          "name": "stdout",
          "text": [
            "smart sunshine\n",
            "smart mary cris\n",
            "smart yael\n",
            "small sunshine\n",
            "small mary cris\n",
            "small yael\n",
            "funny sunshine\n",
            "funny mary cris\n",
            "funny yael\n"
          ]
        }
      ]
    },
    {
      "cell_type": "markdown",
      "source": [
        "# **The pass Statement**"
      ],
      "metadata": {
        "id": "t713avjzfvbf"
      }
    },
    {
      "cell_type": "code",
      "source": [
        "for x in [0, 1, 2]:\n",
        "  pass\n",
        "\n",
        "# having an empty for loop like this, would raise an error without the pass statement"
      ],
      "metadata": {
        "id": "7UP3Op0gfxPC"
      },
      "execution_count": null,
      "outputs": []
    },
    {
      "cell_type": "markdown",
      "source": [
        "# **Python While Loops**"
      ],
      "metadata": {
        "id": "d9lTshw9fzzX"
      }
    },
    {
      "cell_type": "markdown",
      "source": [
        "**The while Loop**"
      ],
      "metadata": {
        "id": "WIb8zk_Ef2Hn"
      }
    },
    {
      "cell_type": "markdown",
      "source": [
        "**Print i as long as i is less than 9:**"
      ],
      "metadata": {
        "id": "eVmAStPAf25I"
      }
    },
    {
      "cell_type": "code",
      "source": [
        "i = 1\n",
        "while i < 9:\n",
        "  print(i)\n",
        "  i += 1"
      ],
      "metadata": {
        "colab": {
          "base_uri": "https://localhost:8080/"
        },
        "id": "Jx3QVm7ogAsB",
        "outputId": "7b4d93bc-bccc-4868-e156-56e6b6e843e5"
      },
      "execution_count": 23,
      "outputs": [
        {
          "output_type": "stream",
          "name": "stdout",
          "text": [
            "1\n",
            "2\n",
            "3\n",
            "4\n",
            "5\n",
            "6\n",
            "7\n",
            "8\n"
          ]
        }
      ]
    },
    {
      "cell_type": "markdown",
      "source": [
        "\n",
        "# **The break Statement**"
      ],
      "metadata": {
        "id": "V5mX79kYgCgp"
      }
    },
    {
      "cell_type": "markdown",
      "source": [
        "**Exit the loop when i is 6:**"
      ],
      "metadata": {
        "id": "HFBs0k2-gHo3"
      }
    },
    {
      "cell_type": "code",
      "source": [
        "i = 1\n",
        "while i < 9:\n",
        "  print(i)\n",
        "  if (i == 6):\n",
        "    break\n",
        "  i += 1"
      ],
      "metadata": {
        "colab": {
          "base_uri": "https://localhost:8080/"
        },
        "id": "sPhxhN5sgKFI",
        "outputId": "b6eece9e-81b0-444d-dcdc-000154bae0a0"
      },
      "execution_count": 24,
      "outputs": [
        {
          "output_type": "stream",
          "name": "stdout",
          "text": [
            "1\n",
            "2\n",
            "3\n",
            "4\n",
            "5\n",
            "6\n"
          ]
        }
      ]
    },
    {
      "cell_type": "markdown",
      "source": [
        "# **The else Statement**"
      ],
      "metadata": {
        "id": "k2YNuTMCgXVb"
      }
    },
    {
      "cell_type": "markdown",
      "source": [
        "**Print a message once the condition is false:**"
      ],
      "metadata": {
        "id": "Tosq7EfYgZxb"
      }
    },
    {
      "cell_type": "code",
      "source": [
        "i = 1\n",
        "while i < 9:\n",
        "  print(i)\n",
        "  i += 1\n",
        "else:\n",
        "  print(\"i is no longer less than 9\")"
      ],
      "metadata": {
        "colab": {
          "base_uri": "https://localhost:8080/"
        },
        "id": "jd-DWYLugbzv",
        "outputId": "bc70eea7-c4ee-440d-c2d0-8d898d375acd"
      },
      "execution_count": 25,
      "outputs": [
        {
          "output_type": "stream",
          "name": "stdout",
          "text": [
            "1\n",
            "2\n",
            "3\n",
            "4\n",
            "5\n",
            "6\n",
            "7\n",
            "8\n",
            "i is no longer less than 9\n"
          ]
        }
      ]
    }
  ]
}