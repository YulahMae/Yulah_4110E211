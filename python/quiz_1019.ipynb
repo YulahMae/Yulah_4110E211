{
  "nbformat": 4,
  "nbformat_minor": 0,
  "metadata": {
    "colab": {
      "provenance": []
    },
    "kernelspec": {
      "name": "python3",
      "display_name": "Python 3"
    },
    "language_info": {
      "name": "python"
    }
  },
  "cells": [
    {
      "cell_type": "markdown",
      "source": [
        "# **Quiz_1019**"
      ],
      "metadata": {
        "id": "PUnq24A9qS0_"
      }
    },
    {
      "cell_type": "markdown",
      "source": [
        "# **Exercise 1:**"
      ],
      "metadata": {
        "id": "oXP8QcY5qUOe"
      }
    },
    {
      "cell_type": "code",
      "source": [
        "initial = 111\n",
        "\n",
        "for x in range (2, 7 ,2) :\n",
        "  initial *= x #initial = initial*x\n",
        "\n",
        "  print(initial)"
      ],
      "metadata": {
        "colab": {
          "base_uri": "https://localhost:8080/"
        },
        "id": "dl30mGjSqWeV",
        "outputId": "a932bc68-0269-425b-aed5-4c371a8b70b4"
      },
      "execution_count": 1,
      "outputs": [
        {
          "output_type": "stream",
          "name": "stdout",
          "text": [
            "222\n",
            "888\n",
            "5328\n"
          ]
        }
      ]
    },
    {
      "cell_type": "markdown",
      "source": [
        "# **Exercise 2:**"
      ],
      "metadata": {
        "id": "CcaXeOA5qZxe"
      }
    },
    {
      "cell_type": "code",
      "source": [
        "initial = 111\n",
        "\n",
        "for x in range(2,7,2):\n",
        "  initial -= x  #initial = initial - x\n",
        "\n",
        "print(initial)"
      ],
      "metadata": {
        "colab": {
          "base_uri": "https://localhost:8080/"
        },
        "id": "Vgpb9Hdyqd09",
        "outputId": "b305a1a4-2f3f-4aa4-8b9a-fcfa2849568a"
      },
      "execution_count": 2,
      "outputs": [
        {
          "output_type": "stream",
          "name": "stdout",
          "text": [
            "99\n"
          ]
        }
      ]
    }
  ]
}