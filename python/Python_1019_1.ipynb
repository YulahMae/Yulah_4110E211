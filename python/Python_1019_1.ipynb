{
  "nbformat": 4,
  "nbformat_minor": 0,
  "metadata": {
    "colab": {
      "provenance": []
    },
    "kernelspec": {
      "name": "python3",
      "display_name": "Python 3"
    },
    "language_info": {
      "name": "python"
    }
  },
  "cells": [
    {
      "cell_type": "markdown",
      "source": [
        "# **1019 4110E211**"
      ],
      "metadata": {
        "id": "bxEjkSoEoL4o"
      }
    },
    {
      "cell_type": "markdown",
      "source": [
        "Python Conditions and If statements"
      ],
      "metadata": {
        "id": "c__phru_oPHt"
      }
    },
    {
      "cell_type": "markdown",
      "source": [
        "Exercise 1 : Print \"Hello Kunshan\" if a is greater than b."
      ],
      "metadata": {
        "id": "A1TF9ef_oQd9"
      }
    },
    {
      "cell_type": "code",
      "source": [
        "a = 54\n",
        "b = 35\n",
        "\n",
        "if a > b :\n",
        "  print(\"Hello Kunshan\")"
      ],
      "metadata": {
        "colab": {
          "base_uri": "https://localhost:8080/"
        },
        "id": "LkgGXo_ooSgm",
        "outputId": "4b1b31ac-c368-4d0d-d9a5-feedf036ff74"
      },
      "execution_count": 1,
      "outputs": [
        {
          "output_type": "stream",
          "name": "stdout",
          "text": [
            "Hello Kunshan\n"
          ]
        }
      ]
    },
    {
      "cell_type": "markdown",
      "source": [
        "Exercise 2 : Print \"Hello Kunshan\" if a is not equal to b."
      ],
      "metadata": {
        "id": "ii8cppgfobB9"
      }
    },
    {
      "cell_type": "code",
      "source": [
        "a = 64\n",
        "b = 29\n",
        "\n",
        "if a != b :\n",
        "  print(\"Hello Kunshan\")"
      ],
      "metadata": {
        "colab": {
          "base_uri": "https://localhost:8080/"
        },
        "id": "QwLZPmtcocy9",
        "outputId": "92497671-4303-4db5-d221-cf4825272c14"
      },
      "execution_count": 2,
      "outputs": [
        {
          "output_type": "stream",
          "name": "stdout",
          "text": [
            "Hello Kunshan\n"
          ]
        }
      ]
    },
    {
      "cell_type": "markdown",
      "source": [
        "Exercise 3 : Print \"Yes\" if a is equal to b, otherwise print \"No\"."
      ],
      "metadata": {
        "id": "REWNoRrgoeSd"
      }
    },
    {
      "cell_type": "code",
      "source": [
        "a = 87\n",
        "b = 73\n",
        "\n",
        "if a == b :\n",
        "  print(\"Yes\")\n",
        "else:\n",
        "  print(\"No\")"
      ],
      "metadata": {
        "colab": {
          "base_uri": "https://localhost:8080/"
        },
        "id": "nR6OKVJrof6W",
        "outputId": "16556d24-c6b9-4ce5-dd6e-f0c2dbda4c0d"
      },
      "execution_count": 3,
      "outputs": [
        {
          "output_type": "stream",
          "name": "stdout",
          "text": [
            "No\n"
          ]
        }
      ]
    },
    {
      "cell_type": "markdown",
      "source": [
        "Exercise 4 : Print \"1\" if a is equal to b, print \"2\" if a is greater than b, otherwise print \"3\"."
      ],
      "metadata": {
        "id": "17kKWgquoi7u"
      }
    },
    {
      "cell_type": "code",
      "source": [
        "a = 69\n",
        "b = 38\n",
        "\n",
        "if a == b :\n",
        " print(\"1\")\n",
        "elif a > b :\n",
        " print(\"2\")\n",
        "else:\n",
        " print(\"3\")"
      ],
      "metadata": {
        "colab": {
          "base_uri": "https://localhost:8080/"
        },
        "id": "1Xd-3fgNokg3",
        "outputId": "f5971735-52bb-4a38-8572-0644e380b3ba"
      },
      "execution_count": 4,
      "outputs": [
        {
          "output_type": "stream",
          "name": "stdout",
          "text": [
            "2\n"
          ]
        }
      ]
    },
    {
      "cell_type": "markdown",
      "source": [
        "Exercise 5 : Print \"Hello Kunshan\" if a is equal to b, and c is equal to d."
      ],
      "metadata": {
        "id": "ALC6B7PGomXm"
      }
    },
    {
      "cell_type": "code",
      "source": [
        "if a == b and c == d :\n",
        "  print(\"Hello Kunshan\")"
      ],
      "metadata": {
        "id": "30LpvqXuonfl"
      },
      "execution_count": 5,
      "outputs": []
    },
    {
      "cell_type": "markdown",
      "source": [
        "Exercise 6 : Print \"Hello Kunshan\" if a is equal to b, or if c is equal to d."
      ],
      "metadata": {
        "id": "DtpQbbfIorCl"
      }
    },
    {
      "cell_type": "code",
      "source": [
        "if a == b or c == d:\n",
        "  print(\"Hello Kunshan\")"
      ],
      "metadata": {
        "id": "n4TtGqMyo2-O"
      },
      "execution_count": null,
      "outputs": []
    },
    {
      "cell_type": "markdown",
      "source": [
        "Exercise 7 : This example misses indentations to be correct.\n",
        "\n",
        "Insert the missing indentation to make the code correct:"
      ],
      "metadata": {
        "id": "tR7PAzCPo3s9"
      }
    },
    {
      "cell_type": "code",
      "source": [
        "if 9 > 6 :\n",
        "  print(\"Nine is greater than Six!\")"
      ],
      "metadata": {
        "colab": {
          "base_uri": "https://localhost:8080/"
        },
        "id": "6NnynaU2o5vn",
        "outputId": "34070671-c1a4-4a43-8693-0e04d9f03bf6"
      },
      "execution_count": 8,
      "outputs": [
        {
          "output_type": "stream",
          "name": "stdout",
          "text": [
            "Nine is greater than Six!\n"
          ]
        }
      ]
    },
    {
      "cell_type": "markdown",
      "source": [
        "Exercise 8 : Use the correct short hand syntax to put the following statement on one line:"
      ],
      "metadata": {
        "id": "IwU9XNmPo9K2"
      }
    },
    {
      "cell_type": "code",
      "source": [
        "if 9 > 3: print(\"Nine is greater than Three!\")"
      ],
      "metadata": {
        "colab": {
          "base_uri": "https://localhost:8080/"
        },
        "id": "0YyRfwMto-hd",
        "outputId": "a386cdfb-7de3-4b53-e3ad-361d658fb1c9"
      },
      "execution_count": 9,
      "outputs": [
        {
          "output_type": "stream",
          "name": "stdout",
          "text": [
            "Nine is greater than Three!\n"
          ]
        }
      ]
    },
    {
      "cell_type": "markdown",
      "source": [
        "Exercise 9 : Use the correct short hand syntax to write the following conditional expression in one line:"
      ],
      "metadata": {
        "id": "onVlGBeZpAWF"
      }
    },
    {
      "cell_type": "code",
      "source": [
        "if 9 > 7:\n",
        "  print(\"Yes\")\n",
        "else:    \n",
        "  print(\"No\")"
      ],
      "metadata": {
        "colab": {
          "base_uri": "https://localhost:8080/"
        },
        "id": "aG-39f57pBK9",
        "outputId": "e2aa081d-6141-41be-d805-432b6692d75a"
      },
      "execution_count": 10,
      "outputs": [
        {
          "output_type": "stream",
          "name": "stdout",
          "text": [
            "Yes\n"
          ]
        }
      ]
    }
  ]
}