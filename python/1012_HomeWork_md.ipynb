{
  "nbformat": 4,
  "nbformat_minor": 0,
  "metadata": {
    "colab": {
      "provenance": []
    },
    "kernelspec": {
      "name": "python3",
      "display_name": "Python 3"
    },
    "language_info": {
      "name": "python"
    }
  },
  "cells": [
    {
      "cell_type": "markdown",
      "source": [
        "# **1012_HOMEWORK**"
      ],
      "metadata": {
        "id": "oMPnkbT_RqKf"
      }
    },
    {
      "cell_type": "markdown",
      "source": [
        "# **https://www.w3schools.com/python/python_lists_access.asp**"
      ],
      "metadata": {
        "id": "ROrckxywRsyS"
      }
    },
    {
      "cell_type": "markdown",
      "source": [
        "**Access List Items**\n",
        "\n",
        "**Negative Indexing**\n",
        "\n",
        "**Range of Indexes**\n",
        "\n",
        "**Range of Negative Indexes**\n",
        "\n",
        "**Check if Item Exists**"
      ],
      "metadata": {
        "id": "0lQ3zUoLR2ha"
      }
    },
    {
      "cell_type": "markdown",
      "source": [
        "# **https://www.w3schools.com/python/python_lists_change.asp**"
      ],
      "metadata": {
        "id": "tTt0Mm6eSFL0"
      }
    },
    {
      "cell_type": "markdown",
      "source": [
        "**Change Item Value** \n",
        "\n",
        "**Change a Range of Item Values**"
      ],
      "metadata": {
        "id": "15HVyaCISZrK"
      }
    },
    {
      "cell_type": "markdown",
      "source": [
        "# **https://www.w3schools.com/python/python_lists_add.asp**"
      ],
      "metadata": {
        "id": "w3ja6TUhSm3L"
      }
    },
    {
      "cell_type": "markdown",
      "source": [
        "**Append Items**\n",
        "\n",
        "**Insert Items**\n",
        "\n",
        "**Extend List**\n",
        "\n",
        "**Add Any Iterable**"
      ],
      "metadata": {
        "id": "sg2Qs9-iSq-S"
      }
    },
    {
      "cell_type": "markdown",
      "source": [
        "# **https://www.w3schools.com/python/python_lists_remove.asp**"
      ],
      "metadata": {
        "id": "Qc5-xGhFSy5a"
      }
    },
    {
      "cell_type": "markdown",
      "source": [
        "**Remove Specified Item**\n",
        "\n",
        "**Remove Specified Index**\n",
        "\n",
        "**Clear The List**"
      ],
      "metadata": {
        "id": "5pXrKX8bS26S"
      }
    },
    {
      "cell_type": "markdown",
      "source": [
        "# **https://www.w3schools.com/python/python_lists_sort.asp**"
      ],
      "metadata": {
        "id": "18RL2HYmS9ea"
      }
    },
    {
      "cell_type": "markdown",
      "source": [
        "**Sort List Alphanumerically**\n",
        "\n",
        "**Sort Descending**\n",
        "\n",
        "**Customize Sort Function**\n",
        "\n",
        "**Case Insensitive Sort**\n",
        "\n",
        "**Reverse Order**\n"
      ],
      "metadata": {
        "id": "ywQcq66bTD-7"
      }
    },
    {
      "cell_type": "markdown",
      "source": [
        "# **https://www.w3schools.com/python/python_lists_copy.asp**"
      ],
      "metadata": {
        "id": "yU9S3bKnTQ47"
      }
    },
    {
      "cell_type": "markdown",
      "source": [
        "**Copy a List**"
      ],
      "metadata": {
        "id": "p9QdyyWzTUn6"
      }
    },
    {
      "cell_type": "markdown",
      "source": [
        "# **https://www.w3schools.com/python/python_lists_join.asp**"
      ],
      "metadata": {
        "id": "ojEmeDUYTZCZ"
      }
    },
    {
      "cell_type": "markdown",
      "source": [
        "**Join Two Lists**"
      ],
      "metadata": {
        "id": "OTrAO-ivTcYa"
      }
    },
    {
      "cell_type": "markdown",
      "source": [
        "# **https://www.w3schools.com/python/ref_list_reverse.asp0**"
      ],
      "metadata": {
        "id": "3cNj409gTh7T"
      }
    },
    {
      "cell_type": "markdown",
      "source": [
        "**Python List reverse() Method**"
      ],
      "metadata": {
        "id": "gZWCDCPWTnqS"
      }
    }
  ]
}