{
  "nbformat": 4,
  "nbformat_minor": 0,
  "metadata": {
    "colab": {
      "provenance": []
    },
    "kernelspec": {
      "name": "python3",
      "display_name": "Python 3"
    },
    "language_info": {
      "name": "python"
    }
  },
  "cells": [
    {
      "cell_type": "markdown",
      "source": [
        "## **1012 Learning Python**"
      ],
      "metadata": {
        "id": "UmHcpcZ6FAa4"
      }
    },
    {
      "cell_type": "markdown",
      "source": [
        "Python Tutorial - W3Schools\n",
        "\n",
        "Python Tutorial - Tutorialspoint\n",
        "\n",
        "HappyPythonDay"
      ],
      "metadata": {
        "id": "hWOG1r5SFEaa"
      }
    },
    {
      "cell_type": "markdown",
      "source": [
        "**1012:Python Data Type**"
      ],
      "metadata": {
        "id": "o82qGaG0FHBV"
      }
    },
    {
      "cell_type": "markdown",
      "source": [
        "Basic List Operations"
      ],
      "metadata": {
        "id": "s8MUtW4CFJa1"
      }
    },
    {
      "cell_type": "markdown",
      "source": [
        "## **Python - Access List Items**"
      ],
      "metadata": {
        "id": "igxfgYzvFLZj"
      }
    },
    {
      "cell_type": "markdown",
      "source": [
        "\n",
        "\n",
        "1.   Python Lists\n",
        "2.   Access List Items\n",
        "\n",
        "List items are indexed and you can access them by referring to the index number:\n",
        "\n",
        "Note: The first item has index 0.\n",
        "\n",
        "\n",
        "\n",
        "\n"
      ],
      "metadata": {
        "id": "cX-6Xc8JFOUM"
      }
    },
    {
      "cell_type": "code",
      "source": [
        "\n",
        "\n",
        "thislist = [\"coffee\", \"water\", \"soda\"]\n",
        "print(thislist[1])"
      ],
      "metadata": {
        "id": "kuxvTr55Fff0"
      },
      "execution_count": null,
      "outputs": []
    },
    {
      "cell_type": "markdown",
      "source": [
        "**Negative Indexing**"
      ],
      "metadata": {
        "id": "hi_GoStPFhlv"
      }
    },
    {
      "cell_type": "markdown",
      "source": [
        "Negative indexing means start from the end"
      ],
      "metadata": {
        "id": "92AgI0p0Fj7e"
      }
    },
    {
      "cell_type": "markdown",
      "source": [
        "-1 refers to the last item, -2 refers to the second last item etc."
      ],
      "metadata": {
        "id": "vGHzBaruFlYG"
      }
    },
    {
      "cell_type": "code",
      "source": [
        "* Print the last item of the list:\n",
        "\n",
        "\n",
        "thislist = [\"coffee\", \"water\", \"soda\"]\n",
        "print(thislist[-1])"
      ],
      "metadata": {
        "id": "1f9QbVNxFnlN"
      },
      "execution_count": null,
      "outputs": []
    },
    {
      "cell_type": "markdown",
      "source": [
        "**Range of Indexes**"
      ],
      "metadata": {
        "id": "bOkKOkV8FpgN"
      }
    },
    {
      "cell_type": "markdown",
      "source": [
        "You can specify a range of indexes by specifying where to start and where to end the range."
      ],
      "metadata": {
        "id": "Evb7wKqZFsSm"
      }
    },
    {
      "cell_type": "markdown",
      "source": [
        "When specifying a range, the return value will be a new list with the specified items."
      ],
      "metadata": {
        "id": "kbEua9PAFwXV"
      }
    },
    {
      "cell_type": "markdown",
      "source": [
        "Note: The search will start at index 2 (included) and end at index 5 (not included).\n",
        "\n"
      ],
      "metadata": {
        "id": "TBcpLyVfFyZe"
      }
    },
    {
      "cell_type": "markdown",
      "source": [
        "Remember that the first item has index 0."
      ],
      "metadata": {
        "id": "YdJ2alIdF0WF"
      }
    },
    {
      "cell_type": "code",
      "source": [
        "* Return the third, fourth, and fifth item:\n",
        "\n",
        "\n",
        "thislist = [\"coffee\", \"water\", \"soda\", \"beer\", \"wine\", \"juice\", \"yakult\"]\n",
        "print(thislist[2:5])\n",
        "\n",
        "#This will return the items from position 2 to 5.\n",
        "\n",
        "#Remember that the first item is position 0,\n",
        "#and note that the item in position 5 is NOT included\n"
      ],
      "metadata": {
        "id": "zvAXDRSBF209"
      },
      "execution_count": null,
      "outputs": []
    },
    {
      "cell_type": "markdown",
      "source": [
        "By leaving out the start value, the range will start at the first item:"
      ],
      "metadata": {
        "id": "1_NcWxyxF5At"
      }
    },
    {
      "cell_type": "code",
      "source": [
        "* This example returns the items from the beginning to, but NOT including, \"wine\":\n",
        "\n",
        "\n",
        "thislist = [\"coffee\", \"water\", \"soda\", \"beer\", \"wine\", \"juice\", \"yakult\"]\n",
        "print(thislist[:4])\n",
        "\n",
        "#This will return the items from index 0 to index 4.\n",
        "\n",
        "#Remember that index 0 is the first item, and index 4 is the fifth item\n",
        "#Remember that the item in index 4 is NOT included"
      ],
      "metadata": {
        "id": "WBdu0WT5F7z1"
      },
      "execution_count": null,
      "outputs": []
    },
    {
      "cell_type": "markdown",
      "source": [
        "By leaving out the end value, the range will go on to the end of the list:"
      ],
      "metadata": {
        "id": "KjED7btQF9Re"
      }
    },
    {
      "cell_type": "code",
      "source": [
        "* This example returns the items from \"soda\" to the end:\n",
        "\n",
        "\n",
        "thislist = [\"coffee\", \"water\", \"soda\", \"beer\", \"wine\", \"juice\", \"yakult\"]\n",
        "print(thislist[2:])\n",
        "\n",
        "#This will return the items from index 2 to the end.\n",
        "\n",
        "#Remember that index 0 is the first item, and index 2 is the third"
      ],
      "metadata": {
        "id": "_WuLu9uNF_Q2"
      },
      "execution_count": null,
      "outputs": []
    },
    {
      "cell_type": "markdown",
      "source": [
        "**Range of Negative Indexes**\n",
        "\n",
        "Specify negative indexes if you want to start the search from the end of the list:"
      ],
      "metadata": {
        "id": "sK_whi_GGBd1"
      }
    },
    {
      "cell_type": "code",
      "source": [
        "* This example returns the items from \"water\" (-4) to, but NOT including \"yakult\" (-1):\n",
        "\n",
        "\n",
        "thislist = [\"coffee\", \"water\", \"soda\", \"beer\", \"wine\", \"juice\", \"yakult\"]\n",
        "print(thislist[-4:-1])\n",
        "\n",
        "#Negative indexing means starting from the end of the list.\n",
        "\n",
        "#This example returns the items from index -4 (included) to index -1 (excluded)\n",
        "\n",
        "#Remember that the last item has the index -1,"
      ],
      "metadata": {
        "id": "qPMh0YyDGF0N"
      },
      "execution_count": null,
      "outputs": []
    },
    {
      "cell_type": "markdown",
      "source": [
        "**Check if Item Exists**\n",
        "To determine if a specified item is present in a list use the in keyword:"
      ],
      "metadata": {
        "id": "RGGnBYclGIq8"
      }
    },
    {
      "cell_type": "code",
      "source": [
        "* Check if \"tea\" is present in the list:\n",
        "\n",
        "\n",
        "thislist = [\"coffee\", \"water\", \"soda\"]\n",
        "if \"coffee\" in thislist:\n",
        "  print(\"Yes, 'coffee' is in the drinks list\")"
      ],
      "metadata": {
        "id": "SYx6v-XbGMpX"
      },
      "execution_count": null,
      "outputs": []
    },
    {
      "cell_type": "markdown",
      "source": [
        "## **Python - Change List Items**"
      ],
      "metadata": {
        "id": "oJwOJdgcGOzo"
      }
    },
    {
      "cell_type": "markdown",
      "source": [
        "Change Item Value"
      ],
      "metadata": {
        "id": "-G10uu89GTmX"
      }
    },
    {
      "cell_type": "markdown",
      "source": [
        "To change the value of a specific item, refer to the index number:"
      ],
      "metadata": {
        "id": "Y0bjuiETGYiO"
      }
    },
    {
      "cell_type": "code",
      "source": [
        "* Change the second item:\n",
        "\n",
        "\n",
        "thislist = [\"coffee\", \"water\", \"soda\"]\n",
        "thislist[1] = \"juice\"\n",
        "\n",
        "print(thislist)"
      ],
      "metadata": {
        "id": "xTs-zIWpGjOm"
      },
      "execution_count": null,
      "outputs": []
    },
    {
      "cell_type": "markdown",
      "source": [
        "**Change a Range of Item Values**\n",
        "\n",
        "To change the value of items within a specific range, define a list with the new values, and refer to the range of index numbers where you want to insert the new values:"
      ],
      "metadata": {
        "id": "t3X6iVI6Gpvf"
      }
    },
    {
      "cell_type": "code",
      "source": [
        "* Change the values \"water\" and \"soda\" with the values \"juice\" and \"yakult\":\n",
        "\n",
        "\n",
        "thislist = [\"coffee\", \"water\", \"soda\", \"beer\", \"wine\", \"juice\", \"yakult\"]\n",
        "\n",
        "thislist[1:3] = [\"juice\", \"yakult\"]\n",
        "\n",
        "print(thislist)"
      ],
      "metadata": {
        "id": "c0CVznGcGo6X"
      },
      "execution_count": null,
      "outputs": []
    },
    {
      "cell_type": "markdown",
      "source": [
        "If you insert more items than you replace, the new items will be inserted where you specified, and the remaining items will move accordingly:"
      ],
      "metadata": {
        "id": "pIzV0bbVGuZM"
      }
    },
    {
      "cell_type": "code",
      "execution_count": null,
      "metadata": {
        "id": "JVgoWcxUE-18"
      },
      "outputs": [],
      "source": [
        "* Change the second value by replacing it with two new values:\n",
        "\n",
        "\n",
        "thislist = [\"coffee\", \"water\", \"soda\"]\n",
        "\n",
        "thislist[1:2] = [\"juice\", \"yakult\"]\n",
        "\n",
        "print(thislist)"
      ]
    },
    {
      "cell_type": "markdown",
      "source": [
        "Note: The length of the list will change when the number of items inserted does not match the number of items replaced.\n",
        "\n",
        "if you insert less items than you replace, the new items will be inserted where you specified, and the remaining items will move accordingly:"
      ],
      "metadata": {
        "id": "CgfRplL0G0yE"
      }
    },
    {
      "cell_type": "code",
      "source": [
        "* Change the second and third value by replacing it with one value:\n",
        "\n",
        "\n",
        "thislist = [\"coffee\", \"water\", \"soda\"]\n",
        "\n",
        "thislist[1:3] = [\"yakult\"]\n",
        "\n",
        "print(thislist)"
      ],
      "metadata": {
        "id": "giQK2f9-G3GN"
      },
      "execution_count": null,
      "outputs": []
    },
    {
      "cell_type": "markdown",
      "source": [
        "**Insert Items**\n",
        "\n",
        "To insert a new list item, without replacing any of the existing values, we can use the insert() method.\n",
        "The insert() method inserts an item at the specified index:"
      ],
      "metadata": {
        "id": "ySrJ63G_G4v2"
      }
    },
    {
      "cell_type": "code",
      "source": [
        "* Insert \"milk\" as the third item:\n",
        "\n",
        "\n",
        "thislist = [\"coffee\", \"water\", \"soda\"]\n",
        "\n",
        "thislist.insert(2, \"juice\")\n",
        "\n",
        "print(thislist) "
      ],
      "metadata": {
        "id": "yYUjhQZmG9yP"
      },
      "execution_count": null,
      "outputs": []
    },
    {
      "cell_type": "markdown",
      "source": [
        "Note: As a result of the example above, the list will now contain 4 items."
      ],
      "metadata": {
        "id": "Z1xWaksHG_d1"
      }
    },
    {
      "cell_type": "markdown",
      "source": [
        "## **Python - Add List Items**"
      ],
      "metadata": {
        "id": "BViV0YpjHBvn"
      }
    },
    {
      "cell_type": "markdown",
      "source": [
        "**Append Items**\n",
        "\n",
        "To add an item to the end of the list, use the append() method:"
      ],
      "metadata": {
        "id": "82vE_ks7HErW"
      }
    },
    {
      "cell_type": "code",
      "source": [
        "* Using the append() method to append an item:\n",
        "\n",
        "\n",
        "thislist = [\"coffee\", \"water\", \"soda\"]\n",
        "\n",
        "thislist.append(\"beer\")\n",
        "\n",
        "print(thislist)"
      ],
      "metadata": {
        "id": "uC4sOjEUHIUV"
      },
      "execution_count": null,
      "outputs": []
    },
    {
      "cell_type": "markdown",
      "source": [
        " **Insert Items**\n",
        "\n",
        "To insert a list item at a specified index, use the insert() method.\n",
        "\n",
        "The insert() method inserts an item at the specified index:\n",
        "\n",
        "Note: As a result of the examples above, the lists will now contain 4 items."
      ],
      "metadata": {
        "id": "6tvgsC3JHM4t"
      }
    },
    {
      "cell_type": "code",
      "source": [
        "* Insert an item as the second position:\n",
        "\n",
        "\n",
        "thislist = [\"coffee\", \"water\", \"soda\"]\n",
        "thislist.insert(1, \"beer\")\n",
        "print(thislist"
      ],
      "metadata": {
        "id": "SQWt7JHQHVDf"
      },
      "execution_count": null,
      "outputs": []
    },
    {
      "cell_type": "markdown",
      "source": [
        "**Extend List**\n",
        "\n",
        "To append elements from another list to the current list, use the extend() method."
      ],
      "metadata": {
        "id": "VpSAQZBSHW-I"
      }
    },
    {
      "cell_type": "code",
      "source": [
        "* Add the elements of colors to thislist:\n",
        "\n",
        "\n",
        "thislist = [\"coffee\", \"water\", \"soda\"]\n",
        "colors = [\"beer\", \"wine\", \"juice\"]\n",
        "thislist.extend(colors)\n",
        "print(thislist)\n",
        "\n",
        "\n",
        "(The elements will be added to the end of the list)"
      ],
      "metadata": {
        "id": "hgTORNzHHaVv"
      },
      "execution_count": null,
      "outputs": []
    },
    {
      "cell_type": "markdown",
      "source": [
        "**Add Any Iterable**\n",
        "\n",
        "The extend() method does not have to append lists, you can add any iterable object (tuples, sets, dictionaries etc.)."
      ],
      "metadata": {
        "id": "JBDTd6MqHcpG"
      }
    },
    {
      "cell_type": "code",
      "source": [
        "* Add elements of a color to a list:\n",
        "\n",
        "\n",
        "thislist = [\"coffee\", \"water\", \"soda\"]\n",
        "thistuple = (\"juice, yakult\")\n",
        "thislist.extend(thistuple)\n",
        "print(thislist)"
      ],
      "metadata": {
        "id": "e5VNjvF4HhSR"
      },
      "execution_count": null,
      "outputs": []
    },
    {
      "cell_type": "markdown",
      "source": [
        "## **Python - Remove List Items**"
      ],
      "metadata": {
        "id": "5xXNL2zaHjYm"
      }
    },
    {
      "cell_type": "markdown",
      "source": [
        "**Remove Specified Item**"
      ],
      "metadata": {
        "id": "rTodES2zHslH"
      }
    },
    {
      "cell_type": "code",
      "source": [
        "* Remove \"water\":\n",
        "\n",
        "\n",
        "thislist = [\"coffee\", \"water\", \"soda\"]\n",
        "thislist.remove(\"water\")\n",
        "print(thislist)"
      ],
      "metadata": {
        "id": "2t5jkgduHvPV"
      },
      "execution_count": null,
      "outputs": []
    },
    {
      "cell_type": "markdown",
      "source": [
        "**Remove Specified Index**\n",
        "\n",
        "The pop() method removes the specified index."
      ],
      "metadata": {
        "id": "lZhBCNUYHxO1"
      }
    },
    {
      "cell_type": "code",
      "source": [
        "* Remove the second item:\n",
        "\n",
        "\n",
        "thislist = [\"coffee\", \"water\", \"soda\"]\n",
        "thislist.pop(1)\n",
        "print(thislist)"
      ],
      "metadata": {
        "id": "zR0g3VdOH0R8"
      },
      "execution_count": null,
      "outputs": []
    },
    {
      "cell_type": "markdown",
      "source": [
        "If you do not specify the index, the pop() method removes the last item."
      ],
      "metadata": {
        "id": "UZPXeFQrH3F-"
      }
    },
    {
      "cell_type": "code",
      "source": [
        "* Remove the last item:\n",
        "\n",
        "\n",
        "thislist = [\"coffee\", \"water\", \"soda\"]\n",
        "thislist.pop()\n",
        "print(thislist)"
      ],
      "metadata": {
        "id": "d_AAnYWjH5bR"
      },
      "execution_count": null,
      "outputs": []
    },
    {
      "cell_type": "markdown",
      "source": [
        "The del keyword also removes the specified index:"
      ],
      "metadata": {
        "id": "rlq2vUn5H7PM"
      }
    },
    {
      "cell_type": "code",
      "source": [
        "* Remove the first item:\n",
        "\n",
        "\n",
        "thislist = [\"coffee\", \"water\", \"soda\"]\n",
        "del thislist[0]\n",
        "print(thislist)"
      ],
      "metadata": {
        "id": "jBhAlKobH9e8"
      },
      "execution_count": null,
      "outputs": []
    },
    {
      "cell_type": "markdown",
      "source": [
        "The del keyword can also delete the list completely."
      ],
      "metadata": {
        "id": "yAXZ7dEZIBtc"
      }
    },
    {
      "cell_type": "code",
      "source": [
        "* Delete the entire list:\n",
        "\n",
        "\n",
        "thislist = \"coffee\", \"water\", \"soda\"]\n",
        "del thislist"
      ],
      "metadata": {
        "id": "00ZXdJgeIDtV"
      },
      "execution_count": null,
      "outputs": []
    },
    {
      "cell_type": "markdown",
      "source": [
        "Clear the List\n",
        "\n",
        "The clear() method empties the list.\n",
        "\n",
        "The list still remains, but it has no content."
      ],
      "metadata": {
        "id": "a95YbOr0IHOO"
      }
    },
    {
      "cell_type": "code",
      "source": [
        "* Clear the list content:\n",
        "\n",
        "\n",
        "thislist = [\"coffee\", \"water\", \"soda\"]\n",
        "thislist.clear()\n",
        "print(thislist)"
      ],
      "metadata": {
        "id": "irxB3C6ZIMv1"
      },
      "execution_count": null,
      "outputs": []
    },
    {
      "cell_type": "markdown",
      "source": [
        "## **Python - Sort Lists**"
      ],
      "metadata": {
        "id": "ea9aLI97IO5l"
      }
    },
    {
      "cell_type": "markdown",
      "source": [
        "Advanced Operations in Python Lists\n",
        "\n",
        "Sort List Alphanumerically\n",
        "\n",
        "List objects have a sort() method that will sort the list alphanumerically, \n",
        "ascending, by default:"
      ],
      "metadata": {
        "id": "Twys4vhfIRQk"
      }
    },
    {
      "cell_type": "code",
      "source": [
        "* Sort the list alphabetically:\n",
        "\n",
        "\n",
        "thislist = [\"coffee\", \"water\", \"soda\", \"beer\", \"wine\"]\n",
        "thislist.sort()\n",
        "print(thislist)"
      ],
      "metadata": {
        "id": "qxy84u2PIVWM"
      },
      "execution_count": null,
      "outputs": []
    },
    {
      "cell_type": "code",
      "source": [
        "* Sort the list numerically:\n",
        "\n",
        "\n",
        "thislist = [109, 59, 69, 89, 29]\n",
        "thislist.sort()\n",
        "print(thislist)"
      ],
      "metadata": {
        "id": "nh6XxoACIXm0"
      },
      "execution_count": null,
      "outputs": []
    },
    {
      "cell_type": "markdown",
      "source": [
        "**Sort Descending**\n",
        "\n",
        "To sort descending, use the keyword argument reverse = True:"
      ],
      "metadata": {
        "id": "8JZz3DAAIZiH"
      }
    },
    {
      "cell_type": "code",
      "source": [
        "* Sort the list descending:\n",
        "\n",
        "\n",
        "thislist = [\"coffee\", \"water\", \"soda\", \"beer\", \"wine\"]\n",
        "thislist.sort(reverse = True)\n",
        "print(thislist)"
      ],
      "metadata": {
        "id": "wFAA-ukjIb9M"
      },
      "execution_count": null,
      "outputs": []
    },
    {
      "cell_type": "code",
      "source": [
        "* Sort the list descending:\n",
        "\n",
        "\n",
        "thislist = [109, 59, 69, 89, 29]\n",
        "thislist.sort(reverse = True)\n",
        "print(thislist)"
      ],
      "metadata": {
        "id": "aH3xz8xhIdrE"
      },
      "execution_count": null,
      "outputs": []
    },
    {
      "cell_type": "markdown",
      "source": [
        "Customize Sort Function\n",
        "\n",
        "You can also customize your own function by using the keyword argument key = function.\n",
        "The function will return a number that will be used to sort the list (the lowest number first):"
      ],
      "metadata": {
        "id": "U8I424VIIf7t"
      }
    },
    {
      "cell_type": "code",
      "source": [
        "* Sort the list based on how close the number is to 50:\n",
        "\n",
        "\n",
        "def myfunc(n):\n",
        "  return abs(n - 50)\n",
        "\n",
        "thislist = [109, 59, 69, 89, 29]\n",
        "\n",
        "thislist.sort(key = myfunc)\n",
        "\n",
        "print(thislist)"
      ],
      "metadata": {
        "id": "8KNKp8BEIiss"
      },
      "execution_count": null,
      "outputs": []
    },
    {
      "cell_type": "markdown",
      "source": [
        "**Case Insensitive Sort**\n",
        "\n",
        "By default the sort() method is case sensitive, resulting in all capital letters being sorted before lower case letters:"
      ],
      "metadata": {
        "id": "-VkH0YtJIkhu"
      }
    },
    {
      "cell_type": "code",
      "source": [
        "* Case sensitive sorting can give an unexpected result:\n",
        "\n",
        "\n",
        "thislist = [\"coffee\", \"water\", \"soda\", \"beer\"]\n",
        "thislist.sort()\n",
        "print(thislist)"
      ],
      "metadata": {
        "id": "jiu97hoBIpDV"
      },
      "execution_count": null,
      "outputs": []
    },
    {
      "cell_type": "markdown",
      "source": [
        "Luckily we can use built-in functions as key functions when sorting a list.\n",
        "\n",
        "So if you want a case-insensitive sort function, use str.lower as a key function:"
      ],
      "metadata": {
        "id": "YEddKxbmIqqO"
      }
    },
    {
      "cell_type": "code",
      "source": [
        "* Perform a case-insensitive sort of the list:\n",
        "\n",
        "\n",
        "thislist = [\"coffee\", \"water\", \"soda\", \"beer\"]\n",
        "thislist.sort(key = str.lower)\n",
        "print(thislist)"
      ],
      "metadata": {
        "id": "cNLdpy5CIty9"
      },
      "execution_count": null,
      "outputs": []
    },
    {
      "cell_type": "markdown",
      "source": [
        "**Reverse Order**\n",
        "\n",
        "\n",
        "What if you want to reverse the order of a list, regardless of the alphabet?\n",
        "\n",
        "The reverse() method reverses the current sorting order of the elements."
      ],
      "metadata": {
        "id": "0QyvwsesItEc"
      }
    },
    {
      "cell_type": "code",
      "source": [
        "* Reverse the order of the list items:\n",
        "\n",
        "\n",
        "thislist = [\"coffee\", \"water\", \"soda\", \"beer\"]\n",
        "thislist.reverse()\n",
        "print(thislist)"
      ],
      "metadata": {
        "id": "8nv1B9JzIzjI"
      },
      "execution_count": null,
      "outputs": []
    },
    {
      "cell_type": "markdown",
      "source": [
        "## **Python - Copy Lists**"
      ],
      "metadata": {
        "id": "kxY2M4IXI1OV"
      }
    },
    {
      "cell_type": "markdown",
      "source": [
        "**Copy a List**\n",
        "\n",
        "\n",
        "You cannot copy a list simply by typing list2 = list1, because: list2 will only be a reference to list1, and changes made in list1 will automatically also be made in list2.\n",
        "\n",
        "There are ways to make a copy, one way is to use the built-in List method copy()."
      ],
      "metadata": {
        "id": "1fILIwv2I30M"
      }
    },
    {
      "cell_type": "code",
      "source": [
        "* Make a copy of a list with the copy() method:\n",
        "\n",
        "\n",
        "thislist = [\"coffee\", \"water\", \"soda\"]\n",
        "mylist = thislist.copy()\n",
        "print(mylist)"
      ],
      "metadata": {
        "id": "z0QvWeFII8AN"
      },
      "execution_count": null,
      "outputs": []
    },
    {
      "cell_type": "markdown",
      "source": [
        "Another way to make a copy is to use the built-in method list()."
      ],
      "metadata": {
        "id": "11ymKcYeI9YU"
      }
    },
    {
      "cell_type": "code",
      "source": [
        "* Make a copy of a list with the list() method:\n",
        "\n",
        "\n",
        "thislist = [\"coffee\", \"water\", \"soda\"]\n",
        "mylist = list(thislist)\n",
        "print(mylist)"
      ],
      "metadata": {
        "id": "VJKOiF1xI-9f"
      },
      "execution_count": null,
      "outputs": []
    },
    {
      "cell_type": "markdown",
      "source": [
        "Another way to make a copy is to use the built-in method list()."
      ],
      "metadata": {
        "id": "CKWdqNq1JBWc"
      }
    },
    {
      "cell_type": "markdown",
      "source": [
        "## **Python - Join Lists**"
      ],
      "metadata": {
        "id": "iReoXLs_JDH0"
      }
    },
    {
      "cell_type": "markdown",
      "source": [
        "**Join Two Lists**\n",
        "\n",
        "There are several ways to join, or concatenate, two or more lists in Python.\n",
        "One of the easiest ways are by using the + operator."
      ],
      "metadata": {
        "id": "FMIN5iWRJFs2"
      }
    },
    {
      "cell_type": "code",
      "source": [
        "* Join two list:\n",
        "\n",
        "\n",
        "list1 = [\"q\", \"w\", \"e\"]\n",
        "list2 = [3, 6, 9]\n",
        "\n",
        "list3 = list1 + list2\n",
        "print(list3)"
      ],
      "metadata": {
        "id": "06nYL7X6JIdn"
      },
      "execution_count": null,
      "outputs": []
    },
    {
      "cell_type": "markdown",
      "source": [
        "Another way to join two lists is by appending all the items from list2 into list1, one by one:"
      ],
      "metadata": {
        "id": "JH_mqddBJK1r"
      }
    },
    {
      "cell_type": "code",
      "source": [
        "* Append list2 into list1:\n",
        "\n",
        "\n",
        "list1 = [\"q\", \"w\", \"e\"]\n",
        "list2 = [3, 6, 9]\n",
        "\n",
        "for x in list2:\n",
        "  list1.append(x)\n",
        "\n",
        "print(list1)"
      ],
      "metadata": {
        "id": "wCq4D4JwJMTs"
      },
      "execution_count": null,
      "outputs": []
    },
    {
      "cell_type": "markdown",
      "source": [
        "Or you can use the extend() method, which purpose is to add elements from one list to another list:"
      ],
      "metadata": {
        "id": "tBwk9C3jJOnk"
      }
    },
    {
      "cell_type": "code",
      "source": [
        "* Use the extend() method to add list2 at the end of list1:\n",
        "\n",
        "\n",
        "list1 = [\"q\", \"w\", \"e\"]\n",
        "list2 = [1, 2, 3]\n",
        "\n",
        "list1.extend(list2)\n",
        "print(list1)"
      ],
      "metadata": {
        "id": "ZjYfTeG-JQKD"
      },
      "execution_count": null,
      "outputs": []
    },
    {
      "cell_type": "markdown",
      "source": [
        "## **Python - List Methods**"
      ],
      "metadata": {
        "id": "8MOToCkUJRx0"
      }
    },
    {
      "cell_type": "markdown",
      "source": [
        "**List Methods**\n",
        "\n",
        "**Python List reverse() Method**"
      ],
      "metadata": {
        "id": "GBuSPjhuJUFm"
      }
    },
    {
      "cell_type": "code",
      "source": [
        "* Reverse the order of the colors list:\n",
        "\n",
        "\n",
        "colors = [\"coffee\", \"water\", \"soda]\n",
        "\n",
        "colors.reverse()\n",
        "\n",
        "print(colors)"
      ],
      "metadata": {
        "id": "yJ8bqASAJdUe"
      },
      "execution_count": null,
      "outputs": []
    },
    {
      "cell_type": "markdown",
      "source": [
        "Definition and Usage\n"
      ],
      "metadata": {
        "id": "_ib1OUU2Je50"
      }
    },
    {
      "cell_type": "code",
      "source": [
        "- The reverse() method reverses the sorting order of the elements."
      ],
      "metadata": {
        "id": "KaTf_Nh4JirW"
      },
      "execution_count": null,
      "outputs": []
    },
    {
      "cell_type": "markdown",
      "source": [
        "Syntax"
      ],
      "metadata": {
        "id": "DjlSHdC6JkbM"
      }
    },
    {
      "cell_type": "code",
      "source": [
        "- list.reverse()"
      ],
      "metadata": {
        "id": "HEfNwlSwJmk8"
      },
      "execution_count": null,
      "outputs": []
    },
    {
      "cell_type": "markdown",
      "source": [
        "Parameter Values"
      ],
      "metadata": {
        "id": "ay3ldSdsJn98"
      }
    },
    {
      "cell_type": "code",
      "source": [
        "- No parameters"
      ],
      "metadata": {
        "id": "aU5wDY1CJpU8"
      },
      "execution_count": null,
      "outputs": []
    },
    {
      "cell_type": "markdown",
      "source": [
        "Related Pages"
      ],
      "metadata": {
        "id": "LEg1fMLDJrTk"
      }
    },
    {
      "cell_type": "code",
      "source": [
        "- The buil-in function reversed() returns a reversed iterator object."
      ],
      "metadata": {
        "id": "--sBgHkFJs0M"
      },
      "execution_count": null,
      "outputs": []
    },
    {
      "cell_type": "markdown",
      "source": [
        "# **Official The Python Tutorial » 5. Data Structures**\n",
        "# **list.count(x)Method:Return the number of times x appears in the list.**"
      ],
      "metadata": {
        "id": "bG88PiSoJud8"
      }
    }
  ]
}