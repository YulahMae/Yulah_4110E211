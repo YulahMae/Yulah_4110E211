{
  "nbformat": 4,
  "nbformat_minor": 0,
  "metadata": {
    "colab": {
      "provenance": []
    },
    "kernelspec": {
      "name": "python3",
      "display_name": "Python 3"
    },
    "language_info": {
      "name": "python"
    }
  },
  "cells": [
    {
      "cell_type": "markdown",
      "source": [
        "# **1019 4110E211**"
      ],
      "metadata": {
        "id": "IHw6xFRopWzm"
      }
    },
    {
      "cell_type": "markdown",
      "source": [
        "Python For Loops"
      ],
      "metadata": {
        "id": "49fJ8wb0pZh9"
      }
    },
    {
      "cell_type": "markdown",
      "source": [
        "Exercise 1 : Loop through the items in the fruits list."
      ],
      "metadata": {
        "id": "YYB3kAoCpdFP"
      }
    },
    {
      "cell_type": "code",
      "source": [
        "classmates = [\"sunshine\", \"mary cris\", \"yael\"]\n",
        "for x in classmates:\n",
        "  print(x)"
      ],
      "metadata": {
        "colab": {
          "base_uri": "https://localhost:8080/"
        },
        "id": "MvdWNv54peQe",
        "outputId": "2aabbea1-de69-4101-95b8-42fd0873c1d6"
      },
      "execution_count": 1,
      "outputs": [
        {
          "output_type": "stream",
          "name": "stdout",
          "text": [
            "sunshine\n",
            "mary cris\n",
            "yael\n"
          ]
        }
      ]
    },
    {
      "cell_type": "markdown",
      "source": [
        "Exercise 2 : In the loop, when the item value is \"kenneth\", jump directly to the next item."
      ],
      "metadata": {
        "id": "hbXxJmqqppi-"
      }
    },
    {
      "cell_type": "code",
      "source": [
        "classmates = [\"sunshine\", \"mary cris\", \"yael\"]\n",
        "for x in classmates:\n",
        "  if x == \"mary cris\":\n",
        "    continue\n",
        "  print(x)"
      ],
      "metadata": {
        "colab": {
          "base_uri": "https://localhost:8080/"
        },
        "id": "L_jV4-4mpqqF",
        "outputId": "e2417bf2-5e63-41a4-b7d5-80701dbe559b"
      },
      "execution_count": 2,
      "outputs": [
        {
          "output_type": "stream",
          "name": "stdout",
          "text": [
            "sunshine\n",
            "yael\n"
          ]
        }
      ]
    },
    {
      "cell_type": "markdown",
      "source": [
        "Exercise 3 : Use the range function to loop through a code set 9 times."
      ],
      "metadata": {
        "id": "HtM3yQJQp0el"
      }
    },
    {
      "cell_type": "code",
      "source": [
        "for x in range(9):\n",
        "  print(x)"
      ],
      "metadata": {
        "colab": {
          "base_uri": "https://localhost:8080/"
        },
        "id": "5UiaZVqLp1dm",
        "outputId": "390f873d-95b4-45ff-e6ce-9391cbb776b2"
      },
      "execution_count": 3,
      "outputs": [
        {
          "output_type": "stream",
          "name": "stdout",
          "text": [
            "0\n",
            "1\n",
            "2\n",
            "3\n",
            "4\n",
            "5\n",
            "6\n",
            "7\n",
            "8\n"
          ]
        }
      ]
    },
    {
      "cell_type": "markdown",
      "source": [
        "Exercise 4 : Exit the loop when x is \"mary cris\"."
      ],
      "metadata": {
        "id": "mLrQjXuep4pV"
      }
    },
    {
      "cell_type": "code",
      "source": [
        "classmates = [\"james\", \"kenneth\", \"raive\"]\n",
        "for x in classmates:\n",
        "  print(x) \n",
        "  if x == \"kenneth\":\n",
        "    break\n",
        "    print(X)"
      ],
      "metadata": {
        "colab": {
          "base_uri": "https://localhost:8080/"
        },
        "id": "w1ttLbHwp7p9",
        "outputId": "d7373e32-7e0d-4285-c89b-64867ad4909d"
      },
      "execution_count": 4,
      "outputs": [
        {
          "output_type": "stream",
          "name": "stdout",
          "text": [
            "james\n",
            "kenneth\n"
          ]
        }
      ]
    }
  ]
}