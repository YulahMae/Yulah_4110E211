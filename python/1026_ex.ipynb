{
  "nbformat": 4,
  "nbformat_minor": 0,
  "metadata": {
    "colab": {
      "provenance": []
    },
    "kernelspec": {
      "name": "python3",
      "display_name": "Python 3"
    },
    "language_info": {
      "name": "python"
    }
  },
  "cells": [
    {
      "cell_type": "code",
      "execution_count": 1,
      "metadata": {
        "colab": {
          "base_uri": "https://localhost:8080/"
        },
        "id": "qjsM4-tagv-2",
        "outputId": "7b814c1c-13a2-496f-a165-4cb35f4b358a"
      },
      "outputs": [
        {
          "output_type": "stream",
          "name": "stdout",
          "text": [
            "Sum from 1 to 10 is 45\n",
            "Sum from 20 to 37 is 476\n",
            "Sum from 35 to 49 is 581\n"
          ]
        }
      ],
      "source": [
        "def sum(i1, i2):\n",
        "    result = 0\n",
        "    for i in range(i1, i2):\n",
        "        result += i\n",
        "    return result\n",
        "\n",
        "def main():\n",
        "    print(\"Sum from 1 to 10 is\", sum(1, 10)) \n",
        "    print(\"Sum from 20 to 37 is\", sum(20, 37))\n",
        "    print(\"Sum from 35 to 49 is\", sum(35, 49))\n",
        "\n",
        "main() # Call the main function"
      ]
    }
  ]
}