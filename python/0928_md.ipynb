{
  "nbformat": 4,
  "nbformat_minor": 0,
  "metadata": {
    "colab": {
      "provenance": []
    },
    "kernelspec": {
      "name": "python3",
      "display_name": "Python 3"
    },
    "language_info": {
      "name": "python"
    }
  },
  "cells": [
    {
      "cell_type": "markdown",
      "source": [
        "## **0928 Learning Python**"
      ],
      "metadata": {
        "id": "_W5FJVk_4fyZ"
      }
    },
    {
      "cell_type": "markdown",
      "source": [
        "Python Tutorial - W3Schools\n",
        "\n",
        "Python Tutorial - Tutorialspoint\n",
        "\n",
        "HappyPythonDay "
      ],
      "metadata": {
        "id": "JX6IYJK84sMI"
      }
    },
    {
      "cell_type": "markdown",
      "source": [
        "**EXERCISES:**"
      ],
      "metadata": {
        "id": "QdColaYl42f4"
      }
    },
    {
      "cell_type": "markdown",
      "source": [
        "# **EX1:WRITE A POWERPOINT ABOUT**"
      ],
      "metadata": {
        "id": "bpsLa2KB44DZ"
      }
    },
    {
      "cell_type": "markdown",
      "source": [
        "TITLE:LAERNING PYTHON\n",
        "\n",
        "CONTENT:\n",
        "\n",
        "What is Python?\n",
        "\n",
        "Python Jobs\n",
        "\n",
        "Why to Learn Python?\n",
        "\n",
        "Python Online Interpreter\n",
        "\n",
        "one\n",
        "\n",
        "two\n",
        "\n",
        "GOOGLE COLAB\n",
        "\n",
        "YOUR PYTHON CODE\n",
        "\n",
        "UPLOAD YOUR POWERPOINT TO YOUR GITHUB"
      ],
      "metadata": {
        "id": "Xh7D0otN5ANi"
      }
    },
    {
      "cell_type": "markdown",
      "source": [
        "## **EX2: sample**"
      ],
      "metadata": {
        "id": "sUkri6Hc5I2f"
      }
    },
    {
      "cell_type": "code",
      "source": [
        "def sum(a, b):\n",
        "    return (a + b)\n",
        "\n",
        "print(\"A888168 WORKS HARD\")  //write your student ID here\n",
        "a = int(input('Enter 1st number: '))\n",
        "b = int(input('Enter 2nd number: '))\n",
        "\n",
        "print(f'Sum of {a} and {b} is {sum(a, b)}')"
      ],
      "metadata": {
        "id": "OWxBN2dd5aGQ"
      },
      "execution_count": null,
      "outputs": []
    },
    {
      "cell_type": "markdown",
      "source": [
        "# **EX3: INPUT AND OUTPUT**"
      ],
      "metadata": {
        "id": "D7hoTdWe4e49"
      }
    },
    {
      "cell_type": "markdown",
      "source": [
        "# **INPUT: input()\n",
        "OUTPUT:print()\n",
        "\n",
        "type()\n",
        "\n",
        "comments ==> #**"
      ],
      "metadata": {
        "id": "WUV-Pz5D5uqh"
      }
    },
    {
      "cell_type": "markdown",
      "source": [
        "**Question:**"
      ],
      "metadata": {
        "id": "xipV8JvH6COH"
      }
    },
    {
      "cell_type": "code",
      "source": [
        "print(\"A888168 WORKS HARD\")\n",
        "a = input('Enter 1st number: ')\n",
        "b = a + 2"
      ],
      "metadata": {
        "id": "lthjTfXS5uag"
      },
      "execution_count": null,
      "outputs": []
    },
    {
      "cell_type": "markdown",
      "source": [
        "# **Answers: two way**"
      ],
      "metadata": {
        "id": "swO0z_Li6SPX"
      }
    },
    {
      "cell_type": "code",
      "source": [
        "print(\"A888168 WORKS HARD\")\n",
        "a = int(input('Enter 1st number: '))\n",
        "# type(a)\n",
        "b = a + 2\n",
        "b"
      ],
      "metadata": {
        "id": "Br-z0Lk76V_O"
      },
      "execution_count": null,
      "outputs": []
    },
    {
      "cell_type": "code",
      "source": [
        "print(\"A888168 WORKS HARD\")\n",
        "a = eval(input('Enter 1st number: '))\n",
        "# type(a)\n",
        "b = a + 2\n",
        "b"
      ],
      "metadata": {
        "id": "8V321Kw-6fMf"
      },
      "execution_count": null,
      "outputs": []
    },
    {
      "cell_type": "markdown",
      "source": [
        "# **EX4: Data type**"
      ],
      "metadata": {
        "id": "wFlwvikT6iPo"
      }
    },
    {
      "cell_type": "markdown",
      "source": [
        "Python Data Types"
      ],
      "metadata": {
        "id": "b0A4hFjV6tlo"
      }
    },
    {
      "cell_type": "code",
      "source": [
        "x = range(6)\n",
        "\n",
        "for i in range(6):\n",
        "  print(i)\n",
        "\n",
        "#display x:\n",
        "print(x)\n",
        "\n",
        "#display the data type of x:\n",
        "print(type(x)) "
      ],
      "metadata": {
        "id": "OhsGiyvD6y7v"
      },
      "execution_count": null,
      "outputs": []
    },
    {
      "cell_type": "markdown",
      "source": [
        "dict: key-value pair"
      ],
      "metadata": {
        "id": "84iyJhq563Sx"
      }
    },
    {
      "cell_type": "code",
      "source": [
        "x = {\"name\" : \"John\", \"age\" : 36}\n",
        "\n",
        "#display x:\n",
        "print(x)\n",
        "\n",
        "#display the data type of x:\n",
        "print(type(x)) \n",
        "\n",
        "print(x[\"name\"])"
      ],
      "metadata": {
        "id": "Akq6m2jA66MP"
      },
      "execution_count": null,
      "outputs": []
    },
    {
      "cell_type": "markdown",
      "source": [
        "# **EX5: Python Numbers : operators**"
      ],
      "metadata": {
        "id": "Kglx0_rl69LB"
      }
    },
    {
      "cell_type": "markdown",
      "source": [
        "Python Numbers\n",
        "\n",
        "Python Operators\n",
        "\n",
        "Python Arithmetic Operators"
      ],
      "metadata": {
        "id": "tG4BzRem7EJf"
      }
    },
    {
      "cell_type": "code",
      "source": [
        "print(\"A888168\")\n",
        "\n",
        "x = 13\n",
        "y = 3\n",
        "\n",
        "#print(x / y)\n",
        "print(x // y)\n",
        "print(x % y)"
      ],
      "metadata": {
        "id": "uSLN7iq_7BFg"
      },
      "execution_count": null,
      "outputs": []
    },
    {
      "cell_type": "markdown",
      "source": [
        "Python Assignment Operators"
      ],
      "metadata": {
        "id": "5yZCJJOm6c-o"
      }
    },
    {
      "cell_type": "code",
      "source": [
        "x = 5\n",
        "\n",
        "y = x%3 \n",
        "x %= 3\n",
        "\n",
        "print(x)\n",
        "print(y)"
      ],
      "metadata": {
        "id": "bVyo1q_N7PUu"
      },
      "execution_count": null,
      "outputs": []
    },
    {
      "cell_type": "markdown",
      "source": [
        "Python Comparison Operators\n",
        "\n",
        "Python Logical Operators"
      ],
      "metadata": {
        "id": "nDcWQCgV7RcP"
      }
    },
    {
      "cell_type": "code",
      "source": [
        "x = 15\n",
        "\n",
        "print(x > 3 and x < 10)\n",
        "\n",
        "print(x > 3 or x < 10)"
      ],
      "metadata": {
        "id": "nkKe65ra7XJ3"
      },
      "execution_count": null,
      "outputs": []
    }
  ]
}