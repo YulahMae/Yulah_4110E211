{
  "nbformat": 4,
  "nbformat_minor": 0,
  "metadata": {
    "colab": {
      "provenance": []
    },
    "kernelspec": {
      "name": "python3",
      "display_name": "Python 3"
    },
    "language_info": {
      "name": "python"
    }
  },
  "cells": [
    {
      "cell_type": "markdown",
      "source": [
        "# **1012 Exercises 4110E211**\n",
        "# **Python List remove()**\n",
        "\n",
        "\n",
        "\n"
      ],
      "metadata": {
        "id": "TQntYjeHOPcW"
      }
    },
    {
      "cell_type": "markdown",
      "source": [
        "Exercise 1: Remove element from the list"
      ],
      "metadata": {
        "id": "3sDvFNluOoUm"
      }
    },
    {
      "cell_type": "code",
      "source": [
        "# fruits list\n",
        "fruits = ['watermelon', 'apple', 'orange', 'grapes']\n",
        "\n",
        "# 'orange' is removed\n",
        "fruits.remove('orange')\n",
        "\n",
        "\n",
        "# Updated fruits List\n",
        "print('Updated fruits list: ', fruits)"
      ],
      "metadata": {
        "colab": {
          "base_uri": "https://localhost:8080/"
        },
        "id": "msb0i8GuOq_B",
        "outputId": "247d3fb2-713d-46a0-d97f-7961c40a6280"
      },
      "execution_count": 1,
      "outputs": [
        {
          "output_type": "stream",
          "name": "stdout",
          "text": [
            "Updated fruits list:  ['watermelon', 'apple', 'grapes']\n"
          ]
        }
      ]
    },
    {
      "cell_type": "markdown",
      "source": [
        "Updated fruits list:  ['watermelon', 'apple', 'grapes']\n",
        "\n",
        "Exercise 2: remove() method on a list having duplicate elements"
      ],
      "metadata": {
        "id": "ec5Mcww1Ou7t"
      }
    },
    {
      "cell_type": "code",
      "source": [
        "# fruits list\n",
        "fruits = ['watermelon', 'apple', 'apple', 'orange', 'apple']\n",
        "\n",
        "# 'apple' is removed\n",
        "fruits.remove('apple')\n",
        "\n",
        "\n",
        "# Updated fruits list\n",
        "print('Updated fruits list: ', fruits)"
      ],
      "metadata": {
        "colab": {
          "base_uri": "https://localhost:8080/"
        },
        "id": "L_afL1OXOx9N",
        "outputId": "2ed4cec4-9cb1-4dbb-9ce5-35506ff2d9ff"
      },
      "execution_count": 2,
      "outputs": [
        {
          "output_type": "stream",
          "name": "stdout",
          "text": [
            "Updated fruits list:  ['watermelon', 'apple', 'orange', 'apple']\n"
          ]
        }
      ]
    },
    {
      "cell_type": "markdown",
      "source": [
        "Updated fruits list:  ['watermelon', 'apple', 'orange', 'apple']\n",
        "\n",
        "Exercise 3: Deleting element that doesn't exist"
      ],
      "metadata": {
        "id": "8zGCuUZhOz5d"
      }
    },
    {
      "cell_type": "code",
      "source": [
        " fruits list\n",
        "fruits =['watermelon', 'apple', 'orange', 'grapes']\n",
        "\n",
        "# Deleting 'lemon' element\n",
        "fruits.remove('lemon')\n",
        "\n",
        "# Updated fruits list\n",
        "print('Updated fruits list: ', fruits)"
      ],
      "metadata": {
        "colab": {
          "base_uri": "https://localhost:8080/",
          "height": 131
        },
        "id": "UYdM3ZUmO3iT",
        "outputId": "cfbc6a85-91f0-4ab9-8cc6-03d517c1c436"
      },
      "execution_count": 3,
      "outputs": [
        {
          "output_type": "error",
          "ename": "SyntaxError",
          "evalue": "ignored",
          "traceback": [
            "\u001b[0;36m  File \u001b[0;32m\"<ipython-input-3-9e3c5ace80f9>\"\u001b[0;36m, line \u001b[0;32m1\u001b[0m\n\u001b[0;31m    fruits list\u001b[0m\n\u001b[0m              ^\u001b[0m\n\u001b[0;31mSyntaxError\u001b[0m\u001b[0;31m:\u001b[0m invalid syntax\n"
          ]
        }
      ]
    }
  ]
}