{
  "nbformat": 4,
  "nbformat_minor": 0,
  "metadata": {
    "colab": {
      "provenance": []
    },
    "kernelspec": {
      "name": "python3",
      "display_name": "Python 3"
    },
    "language_info": {
      "name": "python"
    }
  },
  "cells": [
    {
      "cell_type": "markdown",
      "source": [
        "# **1019 Learning Python**"
      ],
      "metadata": {
        "id": "YMrD2Rj5UTf8"
      }
    },
    {
      "cell_type": "markdown",
      "source": [
        "**Python Tutorial - W3Schools**\n",
        "\n",
        "**Python Tutorial - Tutorialspoint**\n",
        "\n",
        "**HappyPythonDay**"
      ],
      "metadata": {
        "id": "Na0WsKSUUUtq"
      }
    },
    {
      "cell_type": "markdown",
      "source": [
        "# **1019:Python Conditions and If statements**"
      ],
      "metadata": {
        "id": "HR0vyULuUcRz"
      }
    },
    {
      "cell_type": "markdown",
      "source": [
        "**online code sample**\n",
        "\n",
        "**FIRST TALK : logical conditions**"
      ],
      "metadata": {
        "id": "GJa8GSRSUeip"
      }
    },
    {
      "cell_type": "markdown",
      "source": [
        "# **https://www.w3schools.com/python/python_conditions.asp**"
      ],
      "metadata": {
        "id": "MUmoMqfqUjNB"
      }
    },
    {
      "cell_type": "markdown",
      "source": [
        "**Python supports the usual logical conditions from mathematics:**"
      ],
      "metadata": {
        "id": "56m0LKNJUnAJ"
      }
    },
    {
      "cell_type": "markdown",
      "source": [
        "**Equals: a == b**\n",
        "\n",
        "**Not Equals: a != b**\n",
        "\n",
        "**Less than: a < b** \n",
        "\n",
        "**Less than or equal to: a <= b** \n",
        "\n",
        "**Greater than: a > b**\n",
        "\n",
        "**Greater than or equal to: a >= b**"
      ],
      "metadata": {
        "id": "P4D-qYdBUwo6"
      }
    },
    {
      "cell_type": "markdown",
      "source": [
        "**These conditions can be used in several ways, most commonly in \"if statements\" and loops.**"
      ],
      "metadata": {
        "id": "sYZnzJYXVRzq"
      }
    },
    {
      "cell_type": "markdown",
      "source": [
        "**An \"if statement\" is written by using the if keyword.**"
      ],
      "metadata": {
        "id": "xS4aXnJ3VW0a"
      }
    },
    {
      "cell_type": "code",
      "source": [
        "* If statement:\n",
        "\n",
        "\n",
        "a = 89\n",
        "b = 169\n",
        "\n",
        "if b > a:\n",
        "  print(\"b is greater than a\")"
      ],
      "metadata": {
        "id": "IlD08SWaVbkB"
      },
      "execution_count": null,
      "outputs": []
    },
    {
      "cell_type": "markdown",
      "source": [
        "**In this example we use two variables, a and b, which are used as part of the if statement to test whether b is greater than a. As a is 89, and b is 169, we know that 169 is greater than 89, and so we print to screen that \"b is greater than a\".**"
      ],
      "metadata": {
        "id": "1RYaNeS6VhHS"
      }
    },
    {
      "cell_type": "markdown",
      "source": [
        "**Indentation**"
      ],
      "metadata": {
        "id": "QmsitndvVugL"
      }
    },
    {
      "cell_type": "markdown",
      "source": [
        "**Python relies on indentation (whitespace at the beginning of a line) to define scope in the code. Other programming languages often use curly-brackets for this purpose.**"
      ],
      "metadata": {
        "id": "-C0hfVH8V1yy"
      }
    },
    {
      "cell_type": "code",
      "source": [
        "* If statement, without indentation (will raise an error):\n",
        "\n",
        "\n",
        "a = 89\n",
        "b = 169\n",
        "if b > a:\n",
        "print(\"b is greater than a\") # you will get an error"
      ],
      "metadata": {
        "id": "tKx0yTszV7tK"
      },
      "execution_count": null,
      "outputs": []
    },
    {
      "cell_type": "markdown",
      "source": [
        "**Elif**"
      ],
      "metadata": {
        "id": "X93CJA7zV__c"
      }
    },
    {
      "cell_type": "markdown",
      "source": [
        "**The elif keyword is pythons way of saying \"if the previous conditions were not true, then try this condition\".**"
      ],
      "metadata": {
        "id": "HHNoJIIDWB5p"
      }
    },
    {
      "cell_type": "code",
      "source": [
        "a = 69\n",
        "b = 69\n",
        "if b > a:\n",
        "  print(\"b is greater than a\")\n",
        "elif a == b:\n",
        "  print(\"a and b are equal\")"
      ],
      "metadata": {
        "id": "eqAslp-aWE8J"
      },
      "execution_count": null,
      "outputs": []
    },
    {
      "cell_type": "markdown",
      "source": [
        "**In this example a is equal to b, so the first condition is not true, but the elif condition is true, so we print to screen that \"a and b are equal\".**"
      ],
      "metadata": {
        "id": "PNC-ggcjWGsp"
      }
    },
    {
      "cell_type": "markdown",
      "source": [
        "**Else**"
      ],
      "metadata": {
        "id": "3uJPR9oDWL4a"
      }
    },
    {
      "cell_type": "markdown",
      "source": [
        "**The else keyword catches anything which isn't caught by the preceding conditions.**"
      ],
      "metadata": {
        "id": "2nOmyYwQWNwr"
      }
    },
    {
      "cell_type": "code",
      "source": [
        "a = 169\n",
        "b = 89\n",
        "if b > a:\n",
        "  print(\"b is greater than a\")\n",
        "elif a == b:\n",
        "  print(\"a and b are equal\")\n",
        "else:\n",
        "  print(\"a is greater than b\")"
      ],
      "metadata": {
        "id": "kzLgLWvHWRYs"
      },
      "execution_count": null,
      "outputs": []
    },
    {
      "cell_type": "markdown",
      "source": [
        "**In this example a is greater than b, so the first condition is not true, also the elif condition is not true, so we go to the else condition and print to screen that \"a is greater than b\".**\n",
        "\n"
      ],
      "metadata": {
        "id": "rT-s3xF6WT7h"
      }
    },
    {
      "cell_type": "markdown",
      "source": [
        "**You can also have an else without the elif:**"
      ],
      "metadata": {
        "id": "UeLcRJiXWWTR"
      }
    },
    {
      "cell_type": "code",
      "source": [
        "a = 169\n",
        "b = 89\n",
        "if b > a:\n",
        "  print(\"b is greater than a\")\n",
        "else:\n",
        "  print(\"b is not greater than a\")"
      ],
      "metadata": {
        "id": "HsxMBVf6WZBA"
      },
      "execution_count": null,
      "outputs": []
    },
    {
      "cell_type": "markdown",
      "source": [
        "**Short Hand If**"
      ],
      "metadata": {
        "id": "cypgjSPUWa35"
      }
    },
    {
      "cell_type": "markdown",
      "source": [
        "**If you have only one statement to execute, you can put it on the same line as the if statement.**"
      ],
      "metadata": {
        "id": "Ou0jycPvWddT"
      }
    },
    {
      "cell_type": "code",
      "source": [
        "* One line if statement:\n",
        "\n",
        "\n",
        "a = 169\n",
        "b = 89\n",
        "\n",
        "if a > b: print(\"a is greater than b\")"
      ],
      "metadata": {
        "id": "n0fhh2hmWfyZ"
      },
      "execution_count": null,
      "outputs": []
    },
    {
      "cell_type": "markdown",
      "source": [
        "**Short Hand If ... Else**"
      ],
      "metadata": {
        "id": "t98h2BgeWiwa"
      }
    },
    {
      "cell_type": "markdown",
      "source": [
        "**If you have only one statement to execute, one for if, and one for else, you can put it all on the same line:**"
      ],
      "metadata": {
        "id": "RpXfK5XEWkwx"
      }
    },
    {
      "cell_type": "code",
      "source": [
        "* One line if else statement:\n",
        "\n",
        "\n",
        "a = 9\n",
        "b = 371\n",
        "\n",
        "print(\"A\") if a > b else print(\"B\")"
      ],
      "metadata": {
        "id": "a3vOOye1WncU"
      },
      "execution_count": null,
      "outputs": []
    },
    {
      "cell_type": "markdown",
      "source": [
        "**This technique is known as Ternary Operators, or Conditional Expressions.**"
      ],
      "metadata": {
        "id": "vbo_j8ToWpiC"
      }
    },
    {
      "cell_type": "markdown",
      "source": [
        "**You can also have multiple else statements on the same line:**"
      ],
      "metadata": {
        "id": "o2r2IIuLWsBT"
      }
    },
    {
      "cell_type": "code",
      "source": [
        "* One line if else statement, with 3 conditions:\n",
        "\n",
        "\n",
        "a = 371\n",
        "b = 371\n",
        "\n",
        "print(\"A\") if a > b else print(\"=\") if a == b else print(\"B\")"
      ],
      "metadata": {
        "id": "MJxcOBDWWvxB"
      },
      "execution_count": null,
      "outputs": []
    },
    {
      "cell_type": "markdown",
      "source": [
        "**And**"
      ],
      "metadata": {
        "id": "vGzajBnNWx3x"
      }
    },
    {
      "cell_type": "code",
      "source": [
        "* Test if a is greater than b, AND if c is greater than a:\n",
        "\n",
        "\n",
        "a = 390\n",
        "b = 69\n",
        "c = 750\n",
        "if a > b and c > a:\n",
        "  print(\"Both conditions are True\")"
      ],
      "metadata": {
        "id": "OpMxcii3WzhR"
      },
      "execution_count": null,
      "outputs": []
    },
    {
      "cell_type": "markdown",
      "source": [
        "**Or**"
      ],
      "metadata": {
        "id": "JBNoFCliW1zp"
      }
    },
    {
      "cell_type": "markdown",
      "source": [
        "**The or keyword is a logical operator, and is used to combine conditional statements:**"
      ],
      "metadata": {
        "id": "t4EvRBDhW5zp"
      }
    },
    {
      "cell_type": "code",
      "source": [
        "* Test if a is greater than b, OR if a is greater than c:\n",
        "\n",
        "\n",
        "a = 390\n",
        "b = 69\n",
        "c = 750\n",
        "if a > b or a > c:\n",
        "  print(\"At least one of the conditions is True\")"
      ],
      "metadata": {
        "id": "jgc6_PAEW7FJ"
      },
      "execution_count": null,
      "outputs": []
    },
    {
      "cell_type": "markdown",
      "source": [
        "**Nested If**"
      ],
      "metadata": {
        "id": "2p24bh58W-HT"
      }
    },
    {
      "cell_type": "markdown",
      "source": [
        "**You can have if statements inside if statements, this is called nested if statements.**"
      ],
      "metadata": {
        "id": "CtokKaIMW_Qx"
      }
    },
    {
      "cell_type": "code",
      "source": [
        "x = 61\n",
        "\n",
        "if x > 30:\n",
        "  print(\"Above thirty,\")\n",
        "  if x > 50:\n",
        "    print(\"and also above 50!\")\n",
        "  else:\n",
        "    print(\"but not above 50.\")"
      ],
      "metadata": {
        "id": "fEnDryeDXBRp"
      },
      "execution_count": null,
      "outputs": []
    },
    {
      "cell_type": "markdown",
      "source": [
        "**The pass Statement**"
      ],
      "metadata": {
        "id": "Nu0_yaskXCmZ"
      }
    },
    {
      "cell_type": "markdown",
      "source": [
        "**if statements cannot be empty, but if you for some reason have an if statement with no content, put in the pass statement to avoid getting an error.**"
      ],
      "metadata": {
        "id": "19hZ71xJXEip"
      }
    },
    {
      "cell_type": "code",
      "source": [
        "a = 89\n",
        "b = 169\n",
        "\n",
        "if b > a:\n",
        "  pass\n",
        "\n",
        "# having an empty if statement like this, would raise an error without the pass statement"
      ],
      "metadata": {
        "id": "3an4_vejXHG5"
      },
      "execution_count": null,
      "outputs": []
    },
    {
      "cell_type": "markdown",
      "source": [
        "# **1019:Python For Loops**"
      ],
      "metadata": {
        "id": "adgk3q5eXJT9"
      }
    },
    {
      "cell_type": "markdown",
      "source": [
        "**online code sample**\n",
        "\n",
        "**SECOND TALK : loops**"
      ],
      "metadata": {
        "id": "KQpwQPBIXOJJ"
      }
    },
    {
      "cell_type": "markdown",
      "source": [
        "# **https://www.w3schools.com/python/python_for_loops.asp**"
      ],
      "metadata": {
        "id": "2TzfeU7UXTlx"
      }
    },
    {
      "cell_type": "markdown",
      "source": [
        "**A for loop is used for iterating over a sequence (that is either a list, a tuple, a dictionary, a set, or a string).**"
      ],
      "metadata": {
        "id": "GqIZJF8LXWeS"
      }
    },
    {
      "cell_type": "markdown",
      "source": [
        "**This is less like the for keyword in other programming languages, and works more like an iterator method as found in other object-orientated programming languages.**"
      ],
      "metadata": {
        "id": "W9c4UKf_XZJR"
      }
    },
    {
      "cell_type": "markdown",
      "source": [
        "**With the for loop we can execute a set of statements, once for each item in a list, tuple, set etc.**"
      ],
      "metadata": {
        "id": "jPtgbAY4Xdpr"
      }
    },
    {
      "cell_type": "code",
      "source": [
        "* Print each classmates in a classmates list:\n",
        "\n",
        "\n",
        "classmates = [\"sunshine\", \"mary cris\", \"yael\"]\n",
        "for x in classmates:\n",
        "  print(x)"
      ],
      "metadata": {
        "id": "xePnC3wTXgkJ"
      },
      "execution_count": null,
      "outputs": []
    },
    {
      "cell_type": "markdown",
      "source": [
        "**The for loop does not require an indexing variable to set beforehand.**"
      ],
      "metadata": {
        "id": "pzbMJe-wXi7B"
      }
    },
    {
      "cell_type": "markdown",
      "source": [
        "**Looping Through a String**"
      ],
      "metadata": {
        "id": "bi9R8LiKXmR5"
      }
    },
    {
      "cell_type": "markdown",
      "source": [
        "**Even strings are iterable objects, they contain a sequence of characters:**\n"
      ],
      "metadata": {
        "id": "LkZzqI6hXocS"
      }
    },
    {
      "cell_type": "code",
      "source": [
        "* Loop through the letters in the word \"juricka\":\n",
        "\n",
        "\n",
        "for x in \"juricka\":\n",
        "  print(x)"
      ],
      "metadata": {
        "id": "iXjg2EX3Xsgx"
      },
      "execution_count": null,
      "outputs": []
    },
    {
      "cell_type": "markdown",
      "source": [
        "**With the break statement we can stop the loop before it has looped through all the items:**"
      ],
      "metadata": {
        "id": "uJlylTToYGIR"
      }
    },
    {
      "cell_type": "code",
      "source": [
        "* Exit the loop when x is \"mary cris\":\n",
        "\n",
        "\n",
        "classmates = [\"sunshine\", \"mary cris\", \"yael\"]\n",
        "for x in classmates:\n",
        "  print(x) \n",
        "  if x == \"mary cris\":\n",
        "    break"
      ],
      "metadata": {
        "id": "vKa0VqA4YHwh"
      },
      "execution_count": null,
      "outputs": []
    },
    {
      "cell_type": "code",
      "source": [
        "* Exit the loop when x is \"mary cris\", but this time the break comes before the print:   \n",
        "\n",
        "\n",
        "classmates = [\"sunshine\", \"mary cris\", \"yael\"]\n",
        "for x in classmates:\n",
        "  if x == \"mary cris\":\n",
        "    break\n",
        "  print(x) "
      ],
      "metadata": {
        "id": "z-zeDqh0ZHL6"
      },
      "execution_count": null,
      "outputs": []
    },
    {
      "cell_type": "markdown",
      "source": [
        "**The continue Statement**"
      ],
      "metadata": {
        "id": "nmQFlr7HZRq8"
      }
    },
    {
      "cell_type": "markdown",
      "source": [
        "**With the continue statement we can stop the current iteration of the loop, and continue with the next:**"
      ],
      "metadata": {
        "id": "XdpnrhXwZTjr"
      }
    },
    {
      "cell_type": "code",
      "source": [
        "* Do not print mary cris:\n",
        "\n",
        "\n",
        "classmates = [\"sunshine\", \"mary cris\", \"yael\"]\n",
        "for x in classmates:\n",
        "  if x == \"mary cris\":\n",
        "    continue\n",
        "  print(x) "
      ],
      "metadata": {
        "id": "hnLtwPi8ZWRx"
      },
      "execution_count": null,
      "outputs": []
    },
    {
      "cell_type": "markdown",
      "source": [
        "**The range() Function**"
      ],
      "metadata": {
        "id": "NgBNivtwZimL"
      }
    },
    {
      "cell_type": "markdown",
      "source": [
        "**To loop through a set of code a specified number of times, we can use the range() function,**"
      ],
      "metadata": {
        "id": "RERXVSI9ZkIE"
      }
    },
    {
      "cell_type": "markdown",
      "source": [
        "**The range() function returns a sequence of numbers, starting from 0 by default, and increments by 1 (by default), and ends at a specified number.**"
      ],
      "metadata": {
        "id": "5ZA9vBF6ZmYj"
      }
    },
    {
      "cell_type": "code",
      "source": [
        "* Using the range() function:\n",
        "\n",
        "for x in range(9):\n",
        "  print(x)"
      ],
      "metadata": {
        "id": "ShlM1d6_ZqDw"
      },
      "execution_count": null,
      "outputs": []
    },
    {
      "cell_type": "markdown",
      "source": [
        "**Note that range(9) is not the values of 0 to 9, but the values 0 to 6.**"
      ],
      "metadata": {
        "id": "RCNk6KlHZsMh"
      }
    },
    {
      "cell_type": "markdown",
      "source": [
        "**The range() function defaults to 0 as a starting value, however it is possible to specify the starting value by adding a parameter: range(3, 9), which means values from 3 to 9 (but not including 9):**"
      ],
      "metadata": {
        "id": "aJKG__CZZuOq"
      }
    },
    {
      "cell_type": "code",
      "source": [
        "* Using the start parameter:\n",
        "\n",
        "\n",
        "for x in range(3, 9):\n",
        "  print(x) "
      ],
      "metadata": {
        "id": "qQyVWcEIZw96"
      },
      "execution_count": null,
      "outputs": []
    },
    {
      "cell_type": "markdown",
      "source": [
        "**The range() function defaults to increment the sequence by 1, however it is possible to specify the increment value by adding a third parameter: range(6, 90, 3):**"
      ],
      "metadata": {
        "id": "qJadWBwxZzGY"
      }
    },
    {
      "cell_type": "code",
      "source": [
        "* Increment the sequence with 3 (default is 1):\n",
        "\n",
        "for x in range(6, 90, 3):\n",
        "  print(x) "
      ],
      "metadata": {
        "id": "anjJ4FwfZ1T4"
      },
      "execution_count": null,
      "outputs": []
    },
    {
      "cell_type": "markdown",
      "source": [
        "**The else keyword in a for loop specifies a block of code to be executed when the loop is finished:**"
      ],
      "metadata": {
        "id": "uVkvwIYMZ8hw"
      }
    },
    {
      "cell_type": "code",
      "source": [
        "* Print all numbers from 0 to 8, and print a message when the loop has ended:\n",
        "\n",
        "\n",
        "for x in range(9):\n",
        "  print(x)\n",
        "else:\n",
        "  print(\"Finally finished!\")"
      ],
      "metadata": {
        "id": "YY2hNbiqZ-Vy"
      },
      "execution_count": null,
      "outputs": []
    },
    {
      "cell_type": "markdown",
      "source": [
        "**Note: The else block will NOT be executed if the loop is stopped by a break statement.**"
      ],
      "metadata": {
        "id": "kOCxSqdGaAUw"
      }
    },
    {
      "cell_type": "code",
      "source": [
        "* Break the loop when x is 6, and see what happens with the else block:\n",
        "\n",
        "\n",
        "for x in range(9):\n",
        "  if x == 6: break\n",
        "  print(x)\n",
        "else:\n",
        "  print(\"Finally finished!\")\n",
        "\n",
        "#If the loop breaks, the else block is not executed."
      ],
      "metadata": {
        "id": "OpR8O7F5aDFY"
      },
      "execution_count": null,
      "outputs": []
    },
    {
      "cell_type": "markdown",
      "source": [
        "**Nested Loops**"
      ],
      "metadata": {
        "id": "naQrTnL9aEow"
      }
    },
    {
      "cell_type": "markdown",
      "source": [
        "**A nested loop is a loop inside a loop.**"
      ],
      "metadata": {
        "id": "jXFBrwH2aHaS"
      }
    },
    {
      "cell_type": "markdown",
      "source": [
        "**The \"inner loop\" will be executed one time for each iteration of the \"outer loop\":**"
      ],
      "metadata": {
        "id": "pHM5vKTzaJNI"
      }
    },
    {
      "cell_type": "code",
      "source": [
        "* Print each adjective for every classmates:\n",
        "\n",
        "\n",
        "adj = [\"smart\", \"small\", \"funny\"]\n",
        "classmates = [\"sunshine\", \"mary cris\", \"yael\"]\n",
        "\n",
        "for x in adj:\n",
        "  for y in classmates:\n",
        "    print(x, y)"
      ],
      "metadata": {
        "id": "5QFz2qv0aNgw"
      },
      "execution_count": null,
      "outputs": []
    },
    {
      "cell_type": "markdown",
      "source": [
        "**The pass Statement**"
      ],
      "metadata": {
        "id": "5r7bDO6laaHY"
      }
    },
    {
      "cell_type": "markdown",
      "source": [
        "**for loops cannot be empty, but if you for some reason have a for loop with no content, put in the pass statement to avoid getting an error.**"
      ],
      "metadata": {
        "id": "SlrqdVaYabR4"
      }
    },
    {
      "cell_type": "code",
      "source": [
        "for x in [0, 1, 2]:\n",
        "  pass\n",
        "\n",
        "# having an empty for loop like this, would raise an error without the pass statement"
      ],
      "metadata": {
        "id": "sKpzxBuQagWU"
      },
      "execution_count": null,
      "outputs": []
    },
    {
      "cell_type": "markdown",
      "source": [
        "**1019:Python While Loops**"
      ],
      "metadata": {
        "id": "Nz19zRreamMA"
      }
    },
    {
      "cell_type": "markdown",
      "source": [
        "**online code sample**\n",
        "\n",
        "**THIRD TALK : while Loops**"
      ],
      "metadata": {
        "id": "cLws6EoqaqK6"
      }
    },
    {
      "cell_type": "markdown",
      "source": [
        "# **https://www.w3schools.com/python/python_while_loops.asp**"
      ],
      "metadata": {
        "id": "9BbhoEGXayYR"
      }
    },
    {
      "cell_type": "markdown",
      "source": [
        "**Python Loops**\n",
        "\n",
        "**Python has two primitive loop commands:**\n",
        "\n",
        "**while loops**\n",
        "\n",
        "**for loops**"
      ],
      "metadata": {
        "id": "JvTGO8JDa3dK"
      }
    },
    {
      "cell_type": "markdown",
      "source": [
        "**The while Loop**"
      ],
      "metadata": {
        "id": "PmjNXLtba-PA"
      }
    },
    {
      "cell_type": "markdown",
      "source": [
        "**With the while loop we can execute a set of statements as long as a condition is true.**"
      ],
      "metadata": {
        "id": "4CUgAlHIbCaK"
      }
    },
    {
      "cell_type": "code",
      "source": [
        "* Print i as long as i is less than 9:\n",
        "\n",
        "\n",
        "i = 1\n",
        "while i < 9:\n",
        "  print(i)\n",
        "  i += 1"
      ],
      "metadata": {
        "id": "It5uivhcbFZj"
      },
      "execution_count": null,
      "outputs": []
    },
    {
      "cell_type": "markdown",
      "source": [
        "**Note: remember to increment i, or else the loop will continue forever.**"
      ],
      "metadata": {
        "id": "libD1ZETbIFK"
      }
    },
    {
      "cell_type": "markdown",
      "source": [
        "**The while loop requires relevant variables to be ready, in this example we need to define an indexing variable, i, which we set to 1.**"
      ],
      "metadata": {
        "id": "QupE-7xMbKUQ"
      }
    },
    {
      "cell_type": "markdown",
      "source": [
        "**The break Statement**"
      ],
      "metadata": {
        "id": "T5Ca_LCibMQh"
      }
    },
    {
      "cell_type": "markdown",
      "source": [
        "**With the break statement we can stop the loop even if the while condition is true:**"
      ],
      "metadata": {
        "id": "SAUFlG2ebPBq"
      }
    },
    {
      "cell_type": "code",
      "source": [
        "* Exit the loop when i is 6:\n",
        "\n",
        "\n",
        "i = 1\n",
        "while i < 9:\n",
        "  print(i)\n",
        "  if (i == 6):\n",
        "    break\n",
        "  i += 1"
      ],
      "metadata": {
        "id": "V1YHde_6bVlw"
      },
      "execution_count": null,
      "outputs": []
    },
    {
      "cell_type": "markdown",
      "source": [
        "**The continue Statement**"
      ],
      "metadata": {
        "id": "S5maKED6bYWp"
      }
    },
    {
      "cell_type": "markdown",
      "source": [
        "**With the continue statement we can stop the current iteration, and continue with the next:**"
      ],
      "metadata": {
        "id": "yoWBnnRCbZqa"
      }
    },
    {
      "cell_type": "code",
      "source": [
        "* Continue to the next iteration if i is 6:\n",
        "\n",
        "\n",
        "i = 0\n",
        "while i < 9:\n",
        "  i += 1\n",
        "  if i == 6:\n",
        "    continue\n",
        "  print(i)\n",
        "\n",
        "# Note that number 3 is missing in the result"
      ],
      "metadata": {
        "id": "I0psV_Ecbc_p"
      },
      "execution_count": null,
      "outputs": []
    },
    {
      "cell_type": "markdown",
      "source": [
        "**The else Statement**"
      ],
      "metadata": {
        "id": "jUJ2VAoEbe04"
      }
    },
    {
      "cell_type": "markdown",
      "source": [
        "**With the else statement we can run a block of code once when the condition no longer is true:**"
      ],
      "metadata": {
        "id": "W-_eIPt7bgfo"
      }
    },
    {
      "cell_type": "code",
      "source": [
        "* Print a message once the condition is false:\n",
        "\n",
        "\n",
        "i = 1\n",
        "while i < 9:\n",
        "  print(i)\n",
        "  i += 1\n",
        "else:\n",
        "  print(\"i is no longer less than 9\")"
      ],
      "metadata": {
        "id": "Im4dkOAybiXJ"
      },
      "execution_count": null,
      "outputs": []
    }
  ]
}